{
 "cells": [
  {
   "cell_type": "markdown",
   "id": "257e5f67",
   "metadata": {},
   "source": [
    "# IBMZ DATATHON 2021"
   ]
  },
  {
   "cell_type": "markdown",
   "id": "92ae3703",
   "metadata": {},
   "source": [
    "In this project, we are going to look at 'true.csv' and 'fake.csv', a dataset that contains the fake and correct news between years 2011 and 2012 in the Capital bikeshare system. From the dataset, we are going to apply various machine learning algorithms to generate a model that can predict the number of bike rentals.\n",
    "\n",
    "For more information on this dataset click here."
   ]
  },
  {
   "cell_type": "code",
   "execution_count": 2,
   "id": "1ecd882c",
   "metadata": {},
   "outputs": [],
   "source": [
    "from tensorflow.keras.preprocessing.text import Tokenizer\n",
    "from tensorflow.keras.preprocessing.sequence import pad_sequences"
   ]
  },
  {
   "cell_type": "code",
   "execution_count": 3,
   "id": "ed34c8fd",
   "metadata": {},
   "outputs": [],
   "source": [
    "import tensorflow as tf"
   ]
  },
  {
   "cell_type": "code",
   "execution_count": 4,
   "id": "957a7d62",
   "metadata": {},
   "outputs": [],
   "source": [
    "import pandas as pd\n",
    "import numpy as np\n",
    "import matplotlib.pyplot as plt"
   ]
  },
  {
   "cell_type": "code",
   "execution_count": 5,
   "id": "d0dd3dd0",
   "metadata": {},
   "outputs": [],
   "source": [
    "true_dataset=pd.read_csv('datasets/true.csv')\n",
    "fake_dataset=pd.read_csv('datasets/fake.csv')"
   ]
  },
  {
   "cell_type": "code",
   "execution_count": 6,
   "id": "c5a529d0",
   "metadata": {},
   "outputs": [
    {
     "data": {
      "text/html": [
       "<div>\n",
       "<style scoped>\n",
       "    .dataframe tbody tr th:only-of-type {\n",
       "        vertical-align: middle;\n",
       "    }\n",
       "\n",
       "    .dataframe tbody tr th {\n",
       "        vertical-align: top;\n",
       "    }\n",
       "\n",
       "    .dataframe thead th {\n",
       "        text-align: right;\n",
       "    }\n",
       "</style>\n",
       "<table border=\"1\" class=\"dataframe\">\n",
       "  <thead>\n",
       "    <tr style=\"text-align: right;\">\n",
       "      <th></th>\n",
       "      <th>title</th>\n",
       "      <th>text</th>\n",
       "      <th>subject</th>\n",
       "      <th>date</th>\n",
       "    </tr>\n",
       "  </thead>\n",
       "  <tbody>\n",
       "    <tr>\n",
       "      <th>0</th>\n",
       "      <td>As U.S. budget fight looms, Republicans flip t...</td>\n",
       "      <td>WASHINGTON (Reuters) - The head of a conservat...</td>\n",
       "      <td>politicsNews</td>\n",
       "      <td>December 31, 2017</td>\n",
       "    </tr>\n",
       "    <tr>\n",
       "      <th>1</th>\n",
       "      <td>U.S. military to accept transgender recruits o...</td>\n",
       "      <td>WASHINGTON (Reuters) - Transgender people will...</td>\n",
       "      <td>politicsNews</td>\n",
       "      <td>December 29, 2017</td>\n",
       "    </tr>\n",
       "    <tr>\n",
       "      <th>2</th>\n",
       "      <td>Senior U.S. Republican senator: 'Let Mr. Muell...</td>\n",
       "      <td>WASHINGTON (Reuters) - The special counsel inv...</td>\n",
       "      <td>politicsNews</td>\n",
       "      <td>December 31, 2017</td>\n",
       "    </tr>\n",
       "    <tr>\n",
       "      <th>3</th>\n",
       "      <td>FBI Russia probe helped by Australian diplomat...</td>\n",
       "      <td>WASHINGTON (Reuters) - Trump campaign adviser ...</td>\n",
       "      <td>politicsNews</td>\n",
       "      <td>December 30, 2017</td>\n",
       "    </tr>\n",
       "    <tr>\n",
       "      <th>4</th>\n",
       "      <td>Trump wants Postal Service to charge 'much mor...</td>\n",
       "      <td>SEATTLE/WASHINGTON (Reuters) - President Donal...</td>\n",
       "      <td>politicsNews</td>\n",
       "      <td>December 29, 2017</td>\n",
       "    </tr>\n",
       "  </tbody>\n",
       "</table>\n",
       "</div>"
      ],
      "text/plain": [
       "                                               title  \\\n",
       "0  As U.S. budget fight looms, Republicans flip t...   \n",
       "1  U.S. military to accept transgender recruits o...   \n",
       "2  Senior U.S. Republican senator: 'Let Mr. Muell...   \n",
       "3  FBI Russia probe helped by Australian diplomat...   \n",
       "4  Trump wants Postal Service to charge 'much mor...   \n",
       "\n",
       "                                                text       subject  \\\n",
       "0  WASHINGTON (Reuters) - The head of a conservat...  politicsNews   \n",
       "1  WASHINGTON (Reuters) - Transgender people will...  politicsNews   \n",
       "2  WASHINGTON (Reuters) - The special counsel inv...  politicsNews   \n",
       "3  WASHINGTON (Reuters) - Trump campaign adviser ...  politicsNews   \n",
       "4  SEATTLE/WASHINGTON (Reuters) - President Donal...  politicsNews   \n",
       "\n",
       "                 date  \n",
       "0  December 31, 2017   \n",
       "1  December 29, 2017   \n",
       "2  December 31, 2017   \n",
       "3  December 30, 2017   \n",
       "4  December 29, 2017   "
      ]
     },
     "execution_count": 6,
     "metadata": {},
     "output_type": "execute_result"
    }
   ],
   "source": [
    "true_dataset.head()"
   ]
  },
  {
   "cell_type": "code",
   "execution_count": 7,
   "id": "92a820cb",
   "metadata": {},
   "outputs": [
    {
     "data": {
      "text/plain": [
       "'White House, Congress prepare for talks on spending, immigration'"
      ]
     },
     "execution_count": 7,
     "metadata": {},
     "output_type": "execute_result"
    }
   ],
   "source": [
    "true_dataset.iloc[5]['title']"
   ]
  },
  {
   "cell_type": "code",
   "execution_count": 8,
   "id": "04ef9114",
   "metadata": {},
   "outputs": [
    {
     "data": {
      "text/html": [
       "<div>\n",
       "<style scoped>\n",
       "    .dataframe tbody tr th:only-of-type {\n",
       "        vertical-align: middle;\n",
       "    }\n",
       "\n",
       "    .dataframe tbody tr th {\n",
       "        vertical-align: top;\n",
       "    }\n",
       "\n",
       "    .dataframe thead th {\n",
       "        text-align: right;\n",
       "    }\n",
       "</style>\n",
       "<table border=\"1\" class=\"dataframe\">\n",
       "  <thead>\n",
       "    <tr style=\"text-align: right;\">\n",
       "      <th></th>\n",
       "      <th>title</th>\n",
       "      <th>text</th>\n",
       "      <th>subject</th>\n",
       "      <th>date</th>\n",
       "    </tr>\n",
       "  </thead>\n",
       "  <tbody>\n",
       "    <tr>\n",
       "      <th>21412</th>\n",
       "      <td>'Fully committed' NATO backs new U.S. approach...</td>\n",
       "      <td>BRUSSELS (Reuters) - NATO allies on Tuesday we...</td>\n",
       "      <td>worldnews</td>\n",
       "      <td>August 22, 2017</td>\n",
       "    </tr>\n",
       "    <tr>\n",
       "      <th>21413</th>\n",
       "      <td>LexisNexis withdrew two products from Chinese ...</td>\n",
       "      <td>LONDON (Reuters) - LexisNexis, a provider of l...</td>\n",
       "      <td>worldnews</td>\n",
       "      <td>August 22, 2017</td>\n",
       "    </tr>\n",
       "    <tr>\n",
       "      <th>21414</th>\n",
       "      <td>Minsk cultural hub becomes haven from authorities</td>\n",
       "      <td>MINSK (Reuters) - In the shadow of disused Sov...</td>\n",
       "      <td>worldnews</td>\n",
       "      <td>August 22, 2017</td>\n",
       "    </tr>\n",
       "    <tr>\n",
       "      <th>21415</th>\n",
       "      <td>Vatican upbeat on possibility of Pope Francis ...</td>\n",
       "      <td>MOSCOW (Reuters) - Vatican Secretary of State ...</td>\n",
       "      <td>worldnews</td>\n",
       "      <td>August 22, 2017</td>\n",
       "    </tr>\n",
       "    <tr>\n",
       "      <th>21416</th>\n",
       "      <td>Indonesia to buy $1.14 billion worth of Russia...</td>\n",
       "      <td>JAKARTA (Reuters) - Indonesia will buy 11 Sukh...</td>\n",
       "      <td>worldnews</td>\n",
       "      <td>August 22, 2017</td>\n",
       "    </tr>\n",
       "  </tbody>\n",
       "</table>\n",
       "</div>"
      ],
      "text/plain": [
       "                                                   title  \\\n",
       "21412  'Fully committed' NATO backs new U.S. approach...   \n",
       "21413  LexisNexis withdrew two products from Chinese ...   \n",
       "21414  Minsk cultural hub becomes haven from authorities   \n",
       "21415  Vatican upbeat on possibility of Pope Francis ...   \n",
       "21416  Indonesia to buy $1.14 billion worth of Russia...   \n",
       "\n",
       "                                                    text    subject  \\\n",
       "21412  BRUSSELS (Reuters) - NATO allies on Tuesday we...  worldnews   \n",
       "21413  LONDON (Reuters) - LexisNexis, a provider of l...  worldnews   \n",
       "21414  MINSK (Reuters) - In the shadow of disused Sov...  worldnews   \n",
       "21415  MOSCOW (Reuters) - Vatican Secretary of State ...  worldnews   \n",
       "21416  JAKARTA (Reuters) - Indonesia will buy 11 Sukh...  worldnews   \n",
       "\n",
       "                   date  \n",
       "21412  August 22, 2017   \n",
       "21413  August 22, 2017   \n",
       "21414  August 22, 2017   \n",
       "21415  August 22, 2017   \n",
       "21416  August 22, 2017   "
      ]
     },
     "execution_count": 8,
     "metadata": {},
     "output_type": "execute_result"
    }
   ],
   "source": [
    "true_dataset.tail()"
   ]
  },
  {
   "cell_type": "code",
   "execution_count": 9,
   "id": "55fa1c12",
   "metadata": {},
   "outputs": [
    {
     "data": {
      "text/html": [
       "<div>\n",
       "<style scoped>\n",
       "    .dataframe tbody tr th:only-of-type {\n",
       "        vertical-align: middle;\n",
       "    }\n",
       "\n",
       "    .dataframe tbody tr th {\n",
       "        vertical-align: top;\n",
       "    }\n",
       "\n",
       "    .dataframe thead th {\n",
       "        text-align: right;\n",
       "    }\n",
       "</style>\n",
       "<table border=\"1\" class=\"dataframe\">\n",
       "  <thead>\n",
       "    <tr style=\"text-align: right;\">\n",
       "      <th></th>\n",
       "      <th>title</th>\n",
       "      <th>text</th>\n",
       "      <th>subject</th>\n",
       "      <th>date</th>\n",
       "    </tr>\n",
       "  </thead>\n",
       "  <tbody>\n",
       "    <tr>\n",
       "      <th>0</th>\n",
       "      <td>Donald Trump Sends Out Embarrassing New Year’...</td>\n",
       "      <td>Donald Trump just couldn t wish all Americans ...</td>\n",
       "      <td>News</td>\n",
       "      <td>December 31, 2017</td>\n",
       "    </tr>\n",
       "    <tr>\n",
       "      <th>1</th>\n",
       "      <td>Drunk Bragging Trump Staffer Started Russian ...</td>\n",
       "      <td>House Intelligence Committee Chairman Devin Nu...</td>\n",
       "      <td>News</td>\n",
       "      <td>December 31, 2017</td>\n",
       "    </tr>\n",
       "    <tr>\n",
       "      <th>2</th>\n",
       "      <td>Sheriff David Clarke Becomes An Internet Joke...</td>\n",
       "      <td>On Friday, it was revealed that former Milwauk...</td>\n",
       "      <td>News</td>\n",
       "      <td>December 30, 2017</td>\n",
       "    </tr>\n",
       "    <tr>\n",
       "      <th>3</th>\n",
       "      <td>Trump Is So Obsessed He Even Has Obama’s Name...</td>\n",
       "      <td>On Christmas day, Donald Trump announced that ...</td>\n",
       "      <td>News</td>\n",
       "      <td>December 29, 2017</td>\n",
       "    </tr>\n",
       "    <tr>\n",
       "      <th>4</th>\n",
       "      <td>Pope Francis Just Called Out Donald Trump Dur...</td>\n",
       "      <td>Pope Francis used his annual Christmas Day mes...</td>\n",
       "      <td>News</td>\n",
       "      <td>December 25, 2017</td>\n",
       "    </tr>\n",
       "  </tbody>\n",
       "</table>\n",
       "</div>"
      ],
      "text/plain": [
       "                                               title  \\\n",
       "0   Donald Trump Sends Out Embarrassing New Year’...   \n",
       "1   Drunk Bragging Trump Staffer Started Russian ...   \n",
       "2   Sheriff David Clarke Becomes An Internet Joke...   \n",
       "3   Trump Is So Obsessed He Even Has Obama’s Name...   \n",
       "4   Pope Francis Just Called Out Donald Trump Dur...   \n",
       "\n",
       "                                                text subject  \\\n",
       "0  Donald Trump just couldn t wish all Americans ...    News   \n",
       "1  House Intelligence Committee Chairman Devin Nu...    News   \n",
       "2  On Friday, it was revealed that former Milwauk...    News   \n",
       "3  On Christmas day, Donald Trump announced that ...    News   \n",
       "4  Pope Francis used his annual Christmas Day mes...    News   \n",
       "\n",
       "                date  \n",
       "0  December 31, 2017  \n",
       "1  December 31, 2017  \n",
       "2  December 30, 2017  \n",
       "3  December 29, 2017  \n",
       "4  December 25, 2017  "
      ]
     },
     "execution_count": 9,
     "metadata": {},
     "output_type": "execute_result"
    }
   ],
   "source": [
    "fake_dataset.head()"
   ]
  },
  {
   "cell_type": "code",
   "execution_count": 10,
   "id": "ecfabe90",
   "metadata": {},
   "outputs": [
    {
     "data": {
      "text/plain": [
       "' Donald Trump Sends Out Embarrassing New Year’s Eve Message; This is Disturbing'"
      ]
     },
     "execution_count": 10,
     "metadata": {},
     "output_type": "execute_result"
    }
   ],
   "source": [
    "fake_dataset.iloc[0]['title']"
   ]
  },
  {
   "cell_type": "code",
   "execution_count": 11,
   "id": "62524549",
   "metadata": {},
   "outputs": [
    {
     "name": "stdout",
     "output_type": "stream",
     "text": [
      "Shape of true dataset is (21417, 4)\n",
      "Shape of fake dataset is (23481, 4)\n"
     ]
    }
   ],
   "source": [
    "print(f\"Shape of true dataset is {true_dataset.shape}\")\n",
    "print(f\"Shape of fake dataset is {fake_dataset.shape}\")"
   ]
  },
  {
   "cell_type": "code",
   "execution_count": 12,
   "id": "5877d981",
   "metadata": {},
   "outputs": [],
   "source": [
    "true_dataset[\"label\"]=1\n",
    "fake_dataset[\"label\"]=0"
   ]
  },
  {
   "cell_type": "code",
   "execution_count": 13,
   "id": "ed94f107",
   "metadata": {},
   "outputs": [],
   "source": [
    "full_dataset=true_dataset.append(fake_dataset)"
   ]
  },
  {
   "cell_type": "code",
   "execution_count": 14,
   "id": "fa2256b7",
   "metadata": {},
   "outputs": [
    {
     "data": {
      "text/plain": [
       "title      As U.S. budget fight looms, Republicans flip t...\n",
       "text       WASHINGTON (Reuters) - The head of a conservat...\n",
       "subject                                         politicsNews\n",
       "date                                      December 31, 2017 \n",
       "label                                                      1\n",
       "Name: 0, dtype: object"
      ]
     },
     "execution_count": 14,
     "metadata": {},
     "output_type": "execute_result"
    }
   ],
   "source": [
    "full_dataset.iloc[0]"
   ]
  },
  {
   "cell_type": "code",
   "execution_count": null,
   "id": "0728e2ff",
   "metadata": {},
   "outputs": [],
   "source": []
  },
  {
   "cell_type": "code",
   "execution_count": 15,
   "id": "ec04945f",
   "metadata": {},
   "outputs": [],
   "source": [
    "full_dataset=full_dataset.sample(frac = 1).reset_index(drop=True)"
   ]
  },
  {
   "cell_type": "code",
   "execution_count": 16,
   "id": "cf026b8b",
   "metadata": {},
   "outputs": [
    {
     "data": {
      "text/html": [
       "<div>\n",
       "<style scoped>\n",
       "    .dataframe tbody tr th:only-of-type {\n",
       "        vertical-align: middle;\n",
       "    }\n",
       "\n",
       "    .dataframe tbody tr th {\n",
       "        vertical-align: top;\n",
       "    }\n",
       "\n",
       "    .dataframe thead th {\n",
       "        text-align: right;\n",
       "    }\n",
       "</style>\n",
       "<table border=\"1\" class=\"dataframe\">\n",
       "  <thead>\n",
       "    <tr style=\"text-align: right;\">\n",
       "      <th></th>\n",
       "      <th>title</th>\n",
       "      <th>text</th>\n",
       "      <th>subject</th>\n",
       "      <th>date</th>\n",
       "      <th>label</th>\n",
       "    </tr>\n",
       "  </thead>\n",
       "  <tbody>\n",
       "    <tr>\n",
       "      <th>0</th>\n",
       "      <td>VIDEO: The Dallas Shooting Agenda</td>\n",
       "      <td>Daily Shooter 21st Century WireThe Dallas Snip...</td>\n",
       "      <td>US_News</td>\n",
       "      <td>July 12, 2016</td>\n",
       "      <td>0</td>\n",
       "    </tr>\n",
       "    <tr>\n",
       "      <th>1</th>\n",
       "      <td>Joy Behar Delivers BRUTALLY Honest Message To...</td>\n",
       "      <td>Ever since Donald Trump lost the popular vote ...</td>\n",
       "      <td>News</td>\n",
       "      <td>January 25, 2017</td>\n",
       "      <td>0</td>\n",
       "    </tr>\n",
       "    <tr>\n",
       "      <th>2</th>\n",
       "      <td>More Republicans expect Clinton, rather than T...</td>\n",
       "      <td>NEW YORK (Reuters) - More Republicans now thin...</td>\n",
       "      <td>politicsNews</td>\n",
       "      <td>October 26, 2016</td>\n",
       "      <td>1</td>\n",
       "    </tr>\n",
       "    <tr>\n",
       "      <th>3</th>\n",
       "      <td>Yemen war needs a political solution: U.S. def...</td>\n",
       "      <td>RIYADH (Reuters) - A political solution throug...</td>\n",
       "      <td>politicsNews</td>\n",
       "      <td>April 17, 2017</td>\n",
       "      <td>1</td>\n",
       "    </tr>\n",
       "    <tr>\n",
       "      <th>4</th>\n",
       "      <td>JUST IN: TRUMP ENDS FREE MONEY TRAIN After Pak...</td>\n",
       "      <td>The Trump administration on Friday announced t...</td>\n",
       "      <td>politics</td>\n",
       "      <td>Dec 30, 2017</td>\n",
       "      <td>0</td>\n",
       "    </tr>\n",
       "  </tbody>\n",
       "</table>\n",
       "</div>"
      ],
      "text/plain": [
       "                                               title  \\\n",
       "0                  VIDEO: The Dallas Shooting Agenda   \n",
       "1   Joy Behar Delivers BRUTALLY Honest Message To...   \n",
       "2  More Republicans expect Clinton, rather than T...   \n",
       "3  Yemen war needs a political solution: U.S. def...   \n",
       "4  JUST IN: TRUMP ENDS FREE MONEY TRAIN After Pak...   \n",
       "\n",
       "                                                text       subject  \\\n",
       "0  Daily Shooter 21st Century WireThe Dallas Snip...       US_News   \n",
       "1  Ever since Donald Trump lost the popular vote ...          News   \n",
       "2  NEW YORK (Reuters) - More Republicans now thin...  politicsNews   \n",
       "3  RIYADH (Reuters) - A political solution throug...  politicsNews   \n",
       "4  The Trump administration on Friday announced t...      politics   \n",
       "\n",
       "                date  label  \n",
       "0      July 12, 2016      0  \n",
       "1   January 25, 2017      0  \n",
       "2  October 26, 2016       1  \n",
       "3    April 17, 2017       1  \n",
       "4       Dec 30, 2017      0  "
      ]
     },
     "execution_count": 16,
     "metadata": {},
     "output_type": "execute_result"
    }
   ],
   "source": [
    "full_dataset.head()"
   ]
  },
  {
   "cell_type": "code",
   "execution_count": 17,
   "id": "406faa5e",
   "metadata": {},
   "outputs": [],
   "source": [
    "vocab_size = 10000\n",
    "embedding_dim = 16\n",
    "max_length = 100\n",
    "trunc_type='post'\n",
    "padding_type='post'\n",
    "oov_tok = \"<OOV>\"\n",
    "training_size = int(len(full_dataset)*0.8)"
   ]
  },
  {
   "cell_type": "code",
   "execution_count": null,
   "id": "3e1c8f03",
   "metadata": {},
   "outputs": [],
   "source": []
  },
  {
   "cell_type": "code",
   "execution_count": 18,
   "id": "31f00fa4",
   "metadata": {},
   "outputs": [],
   "source": [
    "titles=[]\n",
    "texts=[]\n",
    "target=[]"
   ]
  },
  {
   "cell_type": "code",
   "execution_count": 19,
   "id": "4b351090",
   "metadata": {},
   "outputs": [],
   "source": [
    "for i in full_dataset['title']:\n",
    "    titles.append(i)\n",
    "for i in full_dataset['text']:\n",
    "    texts.append(i)\n",
    "for i in full_dataset['label']:\n",
    "    target.append(i)"
   ]
  },
  {
   "cell_type": "code",
   "execution_count": 20,
   "id": "fb12bb45",
   "metadata": {
    "scrolled": true
   },
   "outputs": [
    {
     "data": {
      "text/plain": [
       "['VIDEO: The Dallas Shooting Agenda',\n",
       " ' Joy Behar Delivers BRUTALLY Honest Message To Trump That He’ll Have To Agree With (VIDEO)',\n",
       " 'More Republicans expect Clinton, rather than Trump, to win U.S. election',\n",
       " 'Yemen war needs a political solution: U.S. defense secretary',\n",
       " 'JUST IN: TRUMP ENDS FREE MONEY TRAIN After Pakistan Refuses To Stop Housing Terrorists…Cuts STUNNING About Of Military Aid\\xa0',\n",
       " 'DESPERATION OR STUPIDITY? GERMAN State Recruits REFUGEES With No Passports For Police Officer Jobs',\n",
       " 'Trump to receive first security briefing: sources',\n",
       " ' Hillary Clinton and Bernie Sanders Join Forces To Sue Arizona For Voter Suppression',\n",
       " 'AWESOME! SEAN SPICER Gives Trump’s Salary Away At Press Briefing [Video]',\n",
       " ' Email ‘Scandal’ Unraveling: Explosive NBC Report Blows Up Major Anti-Hillary Talking Point',\n",
       " 'Two more women accuse Senate candidate Moore of sexual misconduct',\n",
       " \"Turkey's Vakifbank denies involvement\\xa0in processes mentioned in U.S. lawsuit\",\n",
       " 'U.N. chief Guterres condemns racism, xenophobia: Twitter post',\n",
       " 'WATCH VETERAN Embarrass Trump Hater In Kansas City When She Can’t Explain Her Own Sign',\n",
       " 'Obamacare taxes stand if Senate fails to adopt health bill: Brady',\n",
       " 'LIBERAL SMACK DOWN OF THE DAY: Watch What Happens When A Racist MSNBC Host Tries To Shame Latino Trump Supporter For Using “Illegal” Alien Term [VIDEO]',\n",
       " 'HOUSE TAKES ACTION TO BLOCK OBAMA From Releasing Every Last Guantanamo Terrorist Before Leaving White House',\n",
       " 'No Ex-President In 100 Yrs Has Set Up A Shadow Government…Gone To Such Lengths To Undermine His Successor [VIDEO]',\n",
       " 'ISLAMIC TERRORIST ORGANIZATION Joins Obama And Friends To Condemn Trump’s ‘No New Muslim Immigrants’ Position',\n",
       " ' World Leaders Decide They Don’t Need The U.S. To Move Forward On Climate Change',\n",
       " \"Japan's struggling opposition Democrats pick ex-foreign minister Maehara as leader\",\n",
       " 'White House study: China trade deal worsens damage from TPP failure',\n",
       " '“HILL”-ARIOUS VIDEO: HILLARY TAKES BREAK From Seizures, Coughing Fits, 3 Naps A Day To Slam Trump And “Alt-Right”',\n",
       " 'Uh Oh! Obama Returns From Vacation ‘Fired Up’ For His Last Year In Office',\n",
       " 'Merkel says fight against terrorism no excuse for U.S. entry ban',\n",
       " 'PARENTS OUTRAGED! FEMALE TEACHERS Get Into Major Brawl In Classroom…Terrified Students Scream In Horror [Video]',\n",
       " ' GOP Election Official Pulls A Gun On An Unarmed Man For Disagreeing With Him While Black (VIDEO)',\n",
       " 'Samsung scion fights back as legal appeal begins',\n",
       " 'ONE OF The WORST TEAMS In The NFL Will Donate $500,000 To Push For Gun-Control',\n",
       " \"Trump's son-in-law held talks to set up Trump TV network: source\",\n",
       " ' WATCH: Fox Host Smiles At The Thought Of An October Terrorist Attack That Would Help Trump',\n",
       " ' U.S. Taxpayers Were On The Hook For Trump’s Corruption Before He Was Even Inaugurated',\n",
       " ' Major U.S. Government Official: Why I’d RESIGN If Trump Wins',\n",
       " \"U.N. fears 'further exodus' of Muslim Rohingya from Myanmar\",\n",
       " 'Nigerian court drops most asset declaration charges against Senate president',\n",
       " 'U.S. lawmakers expect more sanctions on Venezuela over vote',\n",
       " 'PRICELESS: Watch Bill Clinton’s Awkward Response When Asked If His Perverted Past Is “Fair Game”',\n",
       " ' Hooded Men Spray-Paint Racial Slurs, Pro-Trump Graffiti At UCSD Campus (VIDEO)',\n",
       " ' American Airlines Throws Ivy League Economist Off Plane For Doing Math',\n",
       " ' Bernie Sanders Rises In The Senate, Prepares To Become Trump’s WORST Nightmare (TWEETS)',\n",
       " 'THE TRUTH ABOUT Phony Global Warming: Why Our Snake-Oil-Salesman-In-Chief Is So Desperate To Sell Americans On This LIE',\n",
       " 'A divided Iraq tests U.S. influence as fight against Islamic State wanes',\n",
       " 'WATCH JUDGE ORDER PUNK WEARING “POLICE LIE” T-SHIRT TO LEAVE COURTROOM…Or Face Contempt Charges',\n",
       " \"Hariri's Paris meeting to boost Lebanon stability: top aide\",\n",
       " \"Trump Cabinet's First World problem: omitting a few million here and there\",\n",
       " ' WATCH: The Damning Video That Will Utterly Destroy Donald Trump (VIDEO)',\n",
       " 'LIBERAL HEADS EXPLODE When PIERS MORGAN Points Out Phony “Racist” Charges Against Trump VS. Muhammad Ali’s ACTUAL Racist History [VIDEO]',\n",
       " \"PR specialist says set up meeting between Trump's son, Russian lawyer at a client's request\",\n",
       " 'U.S. files suit against DynCorp International over Iraq contract',\n",
       " 'TUCKER CARLSON Calls Out Professor On His Claim Russia Stole The Election [Video]',\n",
       " 'One Picture At Miami Debate Watch Party For Jeb! Describes The State Of His Campaign',\n",
       " 'LIBERAL BIGOT Destroyed by Legendary Democrat Alan Dershowitz in Discussion on Trump’s Travel Ban: “You’re lying through your teeth!” [Video]',\n",
       " 'OBAMA’S RACE WAR Spreads Like Cancer To London: Famous Blind Musician Weighs In [VIDEO]',\n",
       " 'WEST VIRGINIA COAL MINERS Send A Clear Message To Hillary Clinton After She “Stabs Them in The Back” [Video]',\n",
       " ' Democrats Preparing A Coup To Oust Debbie Wasserman-Schultz',\n",
       " 'Trump moves ahead with wall, puts stamp on U.S. immigration, security policy',\n",
       " 'BILL O’REILLY\\xa0EMBARRASSES Megyn Kelly…Publishes Letters She Wrote Thanking Him For Being A “Dear Friend” and For “Years” of Support After She Bashed Him On Her Flailing NBC Morning Show [VIDEO]',\n",
       " 'Trump signs defense policy bill, urges U.S. Congress to fund it',\n",
       " 'Abe aims to underscore importance of Japan-U.S. alliance with Trump',\n",
       " ' WATCH: Rachel Maddow Has PERFECT Argument To Prove Trump Is A Failure Despite His Bragging',\n",
       " \"Trump's first year in office marked by controversy, protests\",\n",
       " 'Grounded ferry in Calais refloated, passengers disembarked',\n",
       " 'FBI Warns Philly Colleges Of Threat On Monday: What You Need To Know',\n",
       " 'Senate Judiciary Democrat says panel should hold hearings for Gorsuch',\n",
       " 'MASSACHUSETTS VOTES TO IGNORE FED LAW and Let Illegals Go…This Sanctuary State Endangers All Americans!',\n",
       " 'Pope urges EU to rediscover unity if it wants a future',\n",
       " 'Red Cross appeals for keeping Yemen borders open to food, medicines',\n",
       " 'Judge denies request to return to U.S. by Russian lawyer who met Trump Jr.',\n",
       " 'BREAKING: OBAMA’S RACE WAR PART II…BRAWL BREAKS OUT IN FRONT OF SC STATEHOUSE OVER CONFEDERATE FLAG',\n",
       " 'India files sex assault case against airline passenger for allegedly molesting Bollywood actress',\n",
       " ' Alec Baldwin HUMILIATES Trump Without Saying A Single F*cking Word (IMAGES)',\n",
       " ' Megyn Kelly Unveils DAMNING Truth Bomb About Trump’s Amazingly Hypocritical Campaign Performance',\n",
       " 'Trump supporters praise softer tone in address to Congress',\n",
       " 'Trump says DACA recipients should not worry about status',\n",
       " 'U.N. offers to help resolve Baghdad, Kurdistan region crisis: Iraq foreign ministry',\n",
       " ' Stephen Colbert’s Send Off For Antonin Scalia Is Refreshingly Touching (VIDEO)',\n",
       " 'No Congo election until mid-2019, vote commission says, angering opposition',\n",
       " 'Bilderberg to Meet Next Week in Chantilly, Virginia',\n",
       " 'State of Hawaii asks judge to clarify Trump travel ban ruling',\n",
       " \"Commerce's Ross to lead trade mission on Trump's China visit\",\n",
       " 'Trump says pope will wish he was president if Vatican is attacked by Islamic State',\n",
       " 'HILLARY ON DISABLED CHILDREN During Easter Egg Hunt: “When are they going to get those f*****g ree-tards out of here?”',\n",
       " ' Former ‘Apprentice’ Contestants Unite AGAINST Trump – Issue BRUTAL Statements',\n",
       " ' Watch The Moving Apology To The LGBTQ Community From Utah’s GOP Lt. Gov. That Every Republican Should See',\n",
       " \"New Jersey Governor Chris Christie's ratings slide in state poll\",\n",
       " 'Exclusive: U.S. asks Israel to restrain response to Jerusalem move - document',\n",
       " 'SELF-ADMITTED SEXUAL PREDATOR Who Supported Wife, Enabler Of Sexual Predator “Worries” About Sexual Predator In White House [VIDEO]',\n",
       " 'NY court allows fraud claim against Trump University to proceed',\n",
       " 'N.J. favorites to succeed Christie head for November showdown',\n",
       " 'Merkel gets strong backing from her party after talks fail',\n",
       " 'BREAKING: ACLJ Files Lawsuit Against Obama’s Corrupt Attorney General For Secret Bill Clinton Meeting On Plane During Hillary Investigation [VIDEO]',\n",
       " 'BREAKING: Gay Bernie Sanders Supporter With Long Rifle, Possible Explosives Arrested On Way to L.A. Gay Pride Festival',\n",
       " 'WHOA! CLINTON GRIFTERS BAGGED $100 Million From “Blood Minerals” Firm',\n",
       " 'U.S. Senate confirms Iowa Governor Branstad as ambassador to China',\n",
       " 'FBI INVESTIGATION Into HILLARY’S Email Server Entering “Very, very dangerous phase” [VIDEO]',\n",
       " ' Trump Says Republican ‘Make America Sick Again’ Bill Is ‘Wonderful,’ Stands By Utter Failure',\n",
       " 'White House meeting on Paris climate deal postponed: official',\n",
       " ' Jerry Springer Reacts To Trump’s Debate Performance And It’s BRILLIANT (VIDEO/TWEETS)',\n",
       " 'Uber, SpaceX/Tesla, and PepsiCo execs join Trump business council',\n",
       " ' Trump Holds ‘Exquisitely Awkward’ Event Forcing Cabinet Members To Grovel One-By-One (VIDEO)',\n",
       " 'At least 29 dead after Islamist attack on Somali hotel',\n",
       " ' Senate Republican Says Dumpster Fires Are More Popular Than Trump, Calls For Third Party Run',\n",
       " 'BREAKING NEWS: Vladimir Putin Retaliates After New Sanctions Are Slapped On Russia',\n",
       " 'Conservatives attack proposed U.S. border tax',\n",
       " \"Same-sex marriage bill clears Australia's Senate\",\n",
       " 'DETROIT: BIKERS SHOW UP In Big Numbers To Defend Kid Rock Against Leftist Protesters [VIDEO]',\n",
       " 'Syrian government forces press attack in east Aleppo',\n",
       " 'Senate advances on healthcare, with dramatic return by McCain',\n",
       " \"Son of Thailand's ex-PM Thaksin charged with money-laundering\",\n",
       " 'BREAKING: Oregon Armed Militia Holding Federal Building [Video]',\n",
       " 'Qatar retools after boycott by top auto parts supplier Dubai',\n",
       " \"U.S. ethics lawsuits against Trump part of groups' political strategy\",\n",
       " ' CNN FINALLY Does Its Job, Hammers Trump With His Illegal Donations (VIDEO)',\n",
       " \"For Iraq's Christians, a bittersweet first Christmas home after Islamic State\",\n",
       " 'Exclusive: Japan considers buying more U.S. energy as Abe prepares to meet Trump',\n",
       " ' Sarah Palin Just Openly Admitted She Prefers Being Interviewed By Children Over The Press',\n",
       " 'Irish parliament committee backs referendum on abortion up to 12 weeks',\n",
       " 'BEST SUMMARY Yet Of The Shocking Clinton Uranium One Scandal From The Beginning',\n",
       " 'U.S., Japan agree China should play larger role on North Korea',\n",
       " 'Sri Lanka says keen for early conclusion of China trade deal',\n",
       " 'Waiting for May, Brussels eyes December Brexit deal',\n",
       " 'Pot legalization group says to meet White House officials',\n",
       " 'HERE YOU GO: HILLARY’S E-MAILS FOR YOUR READING PLEASURE',\n",
       " \"From 'Hillarycare' debacle in 1990s, Clinton emerged more cautious\",\n",
       " ' Trump Just SLAMMED U.S. Shut To Far More Than Refugees – Worldwide Chaos Reigns',\n",
       " \"Women knit pink 'pussyhats' for rally after Trump inauguration\",\n",
       " \"Quarter of Republicans think Cruz's birthplace disqualifies him for president: poll\",\n",
       " 'ERIC BOLLING Accuser Is Serial Sexual Harassment Accuser, P*ssy-Hat Wearing, Trump-Hating, Left-Wing Activist Professor',\n",
       " 'Trump says he believes Cuba responsible for attacks that hurt U.S. diplomats',\n",
       " ' WATCH: CNN Panel EXPLODES After Rick Santorum Gives DISGUSTING Defense Of Trump’s Racism',\n",
       " 'Trump signs into law U.S. government ban on Kaspersky Lab software',\n",
       " 'REPUBLICAN LEADER Implies He May Not Seat Roy Moore If He Wins Election',\n",
       " 'Latest North Korea earthquake a sign of instability at nuclear test site-experts',\n",
       " 'FLORIDA CROWD ATTACKS POLICE OFFICER ATTEMPTING TO MAKE ARREST',\n",
       " 'Some Syrian schools erase Assad but tensions rise over Kurdish',\n",
       " ' The Daily Show Hilariously Compares Republicans To Wile E. Coyote In Their Chase Of Trump (VIDEO)',\n",
       " 'HILLARY CLINTON’S BATTLE PLAN: Use Her Sex Offender Husband And Slimy Racist Barack Obama As Her Attack Dogs',\n",
       " 'Late UK PM Heath had questions to answer over child sex abuse claims -police',\n",
       " 'Pope urges skeptical Colombians to accept peace with guerrillas',\n",
       " 'Ousted Pakistani prime minister Nawaz Sharif returns to face trial',\n",
       " 'Willing to oppose Trump, some Senate Republicans gain leverage',\n",
       " 'Obama says several Vietnam activists prevented from meeting him',\n",
       " 'JUST IN: UK LEADER Who Criticized President Trump For Tweeting About ISLAMIC EXTREMISTS Is Victim Of Assassination Plot By ISLAMIC EXTREMISTS',\n",
       " ' WATCH: Texas Inmates Break Out Of Cell To Save Jailer’s Life (VIDEO)',\n",
       " 'WATCH: BLACK TRUMP SUPPORTER BLASTS CA City Council Over “Racist” Sanctuary Cities…And It’s SPECTACULAR!',\n",
       " 'Food security in Middle East, North Africa deteriorating, says U.N. agency',\n",
       " \"Trump looks for boost from Clinton's new email problem\",\n",
       " \"Germany's Merkel says Paris climate accord is an 'essential' pact\",\n",
       " 'Israel welcomes U.S. airstrikes in Syria, will keep to sidelines',\n",
       " 'BEYOND EVIL: 8TH Planned Parenthood Video Stem Cell CEO Laughs About Intact Babies Shocking Lab Workers When Opening Shipments [VIDEO]',\n",
       " ' Russia Drops Bombshell, Confirms It’s Been Talking To Trump Throughout Campaign (DETAILS)',\n",
       " 'Belgian police detains four over foiled attack on high-speed train',\n",
       " 'Jailed Catalonia leader Santi Vila to leave jail after paying bail',\n",
       " 'WATCH: ACTOR JAMES WOODS Shares HILARIOUS Video Montage Of Reactions By So-Called “Journalists” To Trump’s Win On Election Night',\n",
       " 'Deputy attorney general to brief full Senate on Comey firing',\n",
       " 'ARMY-NAVY CROWD ERUPTS During Trump Interview…”Make America Great Again” [VIDEO]',\n",
       " \"U.S. plans new sanctions for Syria in near future: Treasury's Mnuchin\",\n",
       " \"Top U.S. Senate Democrat hopeful Congress will help 'Dreamers' by year end\",\n",
       " 'China says nothing will stop its long-range air force drills',\n",
       " 'CONSERVATIVE Has Message For “DREAMERS” Screaming “He’s not my President!” and It’s HILARIOUS!',\n",
       " ' Seth Meyers Summed Up Monday’s Events Perfectly [VIDEO]',\n",
       " ' FL Pastor ‘Accidentally’ Shoots Wife In The Head While Cleaning Gun',\n",
       " 'Exclusive: U.S. document certifies Honduras as supporting rights amid vote crisis',\n",
       " \"Trump's CIA pick supports domestic surveillance, opposes Iran deal\",\n",
       " 'IT’S COME TO THIS: SWEDISH FAMILY KICKED OUT Of Home To Make Way For “Refugee” Invaders',\n",
       " \"China's Xi says will persist with Korean peninsula denuclearization\",\n",
       " ' Former GOP Senator BLASTS Trump: ‘I Think He’s A Sociopath’',\n",
       " 'Trump adopts aggressive posture toward Iran after missile launch',\n",
       " 'MASS EXODUS FROM DEMOCRAT Party In Liberal Massachusetts…TRUMP Effect?',\n",
       " ' Harry Reid UNLEASHES Anti-Trump Rant On Senate Floor, Calls Him A ‘Human Leech’ (VIDEO)',\n",
       " ' Furious Trump Supporter Threatens To Kill Trump After He Changes Immigration Policy (VIDEO)',\n",
       " 'Pompe drug lauded by Trump costs $300,000 a year',\n",
       " 'Trump pulls out of Republican debate in Iowa',\n",
       " 'ALARMING: NSA Refuses to Release Clinton-Lynch Tarmac Transcript with Lame Excuse',\n",
       " \"Factbox: Contenders for senior jobs in Trump's administration\",\n",
       " 'WATCH: IRAN Made VIDEOTAPE Of Secret $400 Million Ransom Cash-Drop From U.S. To Mock Obama’s Embarrassing Incompetence [VIDEO]',\n",
       " 'WHICH IS IT? DID SUSAN RICE Lie to Andrea Mitchell or Judy Woodruff Two Weeks Ago? [Video]',\n",
       " \"Trump's pick to lead health agency calls EpiPen issue 'disturbing'\",\n",
       " 'Factbox: Republicans to watch in Senate tax bill fight',\n",
       " 'Airlines in Cairo asked to implement Trump travel ban: EgyptAir official',\n",
       " 'Suicide bomber kills 13 others in northeast Nigerian city: police official',\n",
       " 'Philippine leader declares unilateral ceasefire for Christmas',\n",
       " 'Militants cross from Afghanistan, kill two Pakistani soldiers: army',\n",
       " 'Kerry says would be valuable for Trump to seek advice before calls',\n",
       " \"Trump signs Russia sanctions bill, Moscow calls it 'trade war'\",\n",
       " ' Ex-CIA Official: Someone Needs To Give Trump A Binky And ‘Put Him In The Crib’ (VIDEO)',\n",
       " 'The battle for minds: Britain expands project on mental health in terrorism',\n",
       " \"'God bless you', Netanyahu tells Guatemalan president over Jerusalem embassy move\",\n",
       " 'How Is Panama’s “Migrant Crisis” Giving A FREE PASS TO THE U.S. To Anyone From Asia, Cuba, Africa, Haiti…When Did We Become The World’s Dumping Ground?',\n",
       " 'U.S. chief justice alarmed at Trump administration immigration case stance',\n",
       " 'NEW NORMAL? MASSIVE MUSIC FESTIVAL In Angela Merkel’s Islamic Migrant Nation Of Germany EVACUATED After “Concrete Terror Threat” [VIDEO]',\n",
       " 'BOJ governor Kuroda warns against policies unwinding free trade',\n",
       " \"Trump visit could be 'turning point' on North Korea policy, says Moon\",\n",
       " ' Trump Declares War On NFL In Early Morning Twitter MELTDOWN',\n",
       " 'Malaysia asks Interpol to trace financier linked to 1MDB scandal',\n",
       " 'Vietnam orders prosecution of oil firm official in corruption crackdown',\n",
       " 'WHAT DID SHE JUST SAY? NANCY PELOSI Spits Out Word Salad During Press Conference On Obamacare [Video]',\n",
       " 'U.S. to issue rules to tighten individual travel restrictions to Cuba',\n",
       " 'Autos need devices to curb child heatstroke deaths: U.S. lawmakers',\n",
       " 'FPL to restore power in east Florida by weekend, west by Sept. 22',\n",
       " 'Trump expected to nominate attorney Sullivan as No. 2 at State Dept.: WSJ',\n",
       " 'As North Korea threat looms, Trump to address world leaders at U.N.',\n",
       " \"UK's May says Brexit talks must focus on future relationship\",\n",
       " ' WATCH: Trump Adviser Stammers While Being Grilled By Chris Cuomo For Being A Hypocrite',\n",
       " \"Highest glass ceiling remains intact after Clinton's stunning loss\",\n",
       " 'DEAR RNC: An Everyday American Writes A Letter To Explain The Trump Phenomenon',\n",
       " 'Former Reagan aide helped write Trump foreign policy speech',\n",
       " 'IS HILLARY ABOUT TO BE “BERNED?”…Obama Tells Donors To Back Hillary…But Can Hillary Win Without The “FREE College” Voters?',\n",
       " 'Trump sides with Democrats on debt limit in rare bipartisan deal',\n",
       " \"Trump torture remarks 'lay down gauntlet' for other states: U.N. expert\",\n",
       " ' ‘No F*cks Left’ Obama Just Crushed The Last Of Trump’s Pride With This SICK Burn (AUDIO)',\n",
       " 'Syrian Kurds say Russia has promised they can attend Sochi talks',\n",
       " ' White Supremacist Chases Down Black Teen And Kills Him In Oregon',\n",
       " 'WAKE UP AMERICA! SOMALI CANDIDATES IN MINNESOTA Only Speak In Somali At Caucus…Guess Who They’re Voting For [Video]',\n",
       " 'THE LOST VIDEO: Watch MSNBC’S Mika Shamelessly Flirt With Donald Trump [VIDEO]',\n",
       " 'Pope says his defense of Rohingya got through in Myanmar',\n",
       " \"China's Xi: stable development of China-U.S. economic ties to drive global growth\",\n",
       " ' The GOP Is Quietly Working On A New And VILE Way To Sh*t On American Consumers',\n",
       " ' CPAC Cowards Run For The Hills As Milo Pedophilia Controversy Heats Up (IMAGES)',\n",
       " 'Trump to give speech on U.S. tax overhaul on Wednesday: White House',\n",
       " 'Russia to respond to Twitter ban on Russian media ads: RIA',\n",
       " \"France's Le Drian says 'no' to Iran Mediterranean axis\",\n",
       " 'Trump tax plan may produce some short-term budget issues: Mnuchin',\n",
       " ' Protest Group Puts GIANT Sign On Crane Next To White House; Trump’s Gonna Lose His Mind (IMAGE)',\n",
       " 'Merkel on track for fourth term after German election: exit poll',\n",
       " 'Trump golf club must pay $5.77 million to former members: judge',\n",
       " 'U.S. lawmakers chastise officials at all levels over Flint crisis',\n",
       " ' CHAOS: Sarah Palin Promises To Lead GOP Revolt If Trump Denied Nomination',\n",
       " 'U.S. national monument review to test key land protection law',\n",
       " 'STUNNING: Hillary’s Own Numbers Show Her Tax Hike Proposals Will Cost American Workers Additional $1 TRILLION',\n",
       " 'U.S. Senate Republicans release changes to healthcare proposal',\n",
       " 'Rubio campaign test: Can money bring U.S. Republicans happiness?',\n",
       " \"Maradona backs Venezuela's Maduro, signs for World Cup coverage\",\n",
       " 'U.S. imposes duties after finding seven producers dumped steel plate',\n",
       " ' WATCH: Colbert Tears Mylan CEO Apart With This Brilliant Comparison',\n",
       " ' Trump BLOCKS Stephen King After Writer Delivers This Particularly Brutal Mockery On Twitter',\n",
       " 'In breathless U.S. election, Twitter generates buzz not cash',\n",
       " 'Only five ministers, attorney general turn up for Zimbabwe cabinet meeting: sources',\n",
       " 'Flynn pleads guilty to lying on Russia, cooperates with U.S. probe',\n",
       " 'VIDEO: The Dallas Shooting Agenda',\n",
       " ' College Graduates Keep Rejecting Trump’s Evil Minions (VIDEOS)',\n",
       " 'COPYCAT DEMS Fundraise Off Of Trump Lookalike Hat',\n",
       " 'Snowden Laughs-off CIA Excuse of ‘Mistakenly Destroying’ Secret Torture Report',\n",
       " 'Gunman opens fire in Moscow pastry factory, killing one',\n",
       " 'Three in Florida, Virginia charged with voter fraud',\n",
       " 'JOKE OF THE WEEK: A Marine, A Priest And A Flag Burning Hillary Supporter',\n",
       " \"Juncker's proposals in sync with French agenda: presidential official\",\n",
       " 'Trump blasts PGA Tour for plan to move golf tournament to Mexico',\n",
       " 'Judge presiding over Michael Flynn criminal case is recused: court',\n",
       " 'Russia: Syria government forces now on east bank of Euphrates river',\n",
       " \"France's conservatives choose leader to rattle Macron's perch\",\n",
       " 'U.S. attorney general vows to examine Eric Garner case: rights groups',\n",
       " 'BREAKING: CNN PRODUCER Caught On Undercover Video Trashing Trump: “Voters “Stupid as Sh*t” [Video]',\n",
       " 'Chinese state media takes praise for leader to new heights as Xi tightens grip',\n",
       " ' Obama SMACKS DOWN Everyone Who Thinks Democrats Left Out White Workers (VIDEO)',\n",
       " 'There’s Something Hokey About Ted',\n",
       " ' Trump Retweets Article That Destroyed Him, And He Was Too Dumb To Know It',\n",
       " 'Syrian govt delegation to return to Geneva on Sunday for peace talks: SANA',\n",
       " 'ANTI-TRUMP RADICAL Taunts TRUMP Supporters With ISIS Flag Photo And Beheading Video',\n",
       " 'Why French Legal System Turned Down Village’s Request For “Christian Only” Refugees Day Before Attack',\n",
       " ' Trump Blames Charlotte Rioting On Drug Use, Without Any Proof',\n",
       " 'Irma to stress-test Florida insurers, reinsurers: rating agencies',\n",
       " 'AMERICA’S UNEMPLOYMENT RATE IS LOWER But Number Of Americans On Food Stamps Is Shocking',\n",
       " 'One-time Trump adviser Page sees opportunities in Russia',\n",
       " 'FOUL-MOUTHED Celebrities For HILLARY Sing Vulgar Song With Baby In Arms: ‘Jesus F*cking Christ,’ Please Vote [VIDEO]',\n",
       " ' Texas Republicans Cut Environmental Regulations And Now Black Sludge Is Coming Out Instead Of Tap Water',\n",
       " \"Japan's Aso retracts Hitler comment after criticism\",\n",
       " \"Senior Saudi prince condemns Trump's 'opportunistic' Jerusalem move\",\n",
       " 'HILLARY 2016 FAN JAMES TAYLOR: “Every day that Barack Obama and Michelle Obama are in the White House is a day that I am thankful for”',\n",
       " 'Obama Throws Gasoline On Black Terrorists War On Cops: “The Moment Is Here”',\n",
       " ' Trump Campaign Renews Attack On Military Family (AUDIO)',\n",
       " 'Twelve North African stowaways sent home after three-month ferry ordeal',\n",
       " 'WHY REUTERS IS SAYING With “reasonable confidence” A Republican Will Win The White House In 2016',\n",
       " \"Romney: It's 'disqualifying' for Trump not to release tax returns\",\n",
       " ' Paul Ryan Officially Hands What’s Left Of His Spine To Donald Trump (IMAGE)',\n",
       " 'Obama Finally Admits: ‘We Had No Plan After Libya Regime Change’',\n",
       " 'Sanders among five senators asking Obama to order Dakota pipeline review',\n",
       " 'MAXINE WATERS Uses Fake Term “Kremlin Klan”…Struggles to Name “Klan” Members [Video]',\n",
       " 'EU, U.S. high-level meeting on laptop ban to be held next week',\n",
       " '(VIDEO) BUSTED! YOU’LL NEVER BELIEVE WHO ELSE TOLD THE COPS IN BALTIMORE TO “BACK OFF”',\n",
       " \"U.S. education secretary calls Obama transgender guidelines 'overreach'\",\n",
       " ' Minnesota Republican: Gay People Are Mentally Ill, Need Treatment For ‘Unhealthy Sexual Addiction’ (AUDIO)',\n",
       " 'WATCH: AMAZING THING HAPPENED When H.S. Valedictorian Stepped Up To Podium After ATHEIST Group Told Grads They Could No Longer Recite The Lord’s Prayer',\n",
       " ' Trump Screams ‘FAKE NEWS’ Over His Tax Returns And Gets CREAMED By Twitter (TWEETS)',\n",
       " 'LIFE IN THE MILITARY ACADEMY: Where Donald J. Trump Played By The Rules and Learned How To Be A Winner',\n",
       " 'BREAKING AUDIO RELEASED: Paul Ryan Caught On Tape: “I am not going to defend Donald Trump…not now, not in the future”',\n",
       " \"The firing line: Ouster of FBI's Comey tests new Justice appointee\",\n",
       " 'Volkswagen says offices of CFO, HR chief, chairman raided by tax authorities and prosecutors',\n",
       " 'Houthi radio station says ex-president Saleh killed, party denies',\n",
       " 'German minister calls Trump a threat, Merkel lauds Clinton',\n",
       " \"Wall Street's big short: President Donald J. Trump\",\n",
       " 'Xi ally Li Qiang named Shanghai party boss: Xinhua',\n",
       " 'UPDATE: BUSTED By The Secret Service…CNN’s April Ryan Called Out for Fake Report On Trump Aide’s Firing [Video]',\n",
       " 'Arab rivalries exposed as Egypt targets Qatar in UNESCO vote',\n",
       " 'Kenyan police fire teargas at opposition protesters demanding election reforms',\n",
       " 'ITALIAN CATHOLICS TOLD TO “PRAY SILENTLY” So As Not To “Offend” Muslim Refugees Living In Church [VIDEO]',\n",
       " ' WaPo: Trump Tried To Get Sessions To Let Racist Sheriff Joe Arpaio Off The Hook Months Ago',\n",
       " 'HUNGER GAMES’ Effie Trinket? Clinton Cackles Her Way Through Testimony [Video]',\n",
       " 'Texas moves toward post-Harvey recovery; gas prices slip',\n",
       " 'DONALD TRUMP SKIPS MEDIA: Delivers Transition Update Straight To The People [Video]',\n",
       " ' Melania Trump BUSTED Committing Perjury – Lied About Having College Degree While Under Oath',\n",
       " 'SHOCKING VIDEOS Prove That Hillary Is Willing To Endanger Lives In U.S. And Abroad To Protect Her Political Ambitions',\n",
       " 'Against a backdrop of motorcycles, Trump pledges to help veterans',\n",
       " 'Lawmakers briefed on reported DNC hack, seek information on any Russia link',\n",
       " \"Advocates for Americans held in Iran worried by Trump's hard line\",\n",
       " 'Exclusive: Tillerson plans to skip NATO meeting, visit Russia in April - sources',\n",
       " ' There Are Already Four Ways Trump Could Be Impeached — Here Are The Details',\n",
       " 'Lawmakers urge U.S. to craft targeted sanctions on Myanmar military',\n",
       " '#TREXIT: SWING STATE APOCALYPSE…Democrats LEAVE Party In Massive Numbers…Hillary Won’t Recover',\n",
       " 'Boiler Room #95 – Weapons of Mass Penetration',\n",
       " ' Clinton Promises Plan To Overturn Citizens United In First 30 Days',\n",
       " '(VIDEO) UNBELIEVABLE! BLACK JUDGE BERATES VICTIMS OF HOME INVASION AND YOU WON’T BELIEVE WHY',\n",
       " ' Non-Transgender Woman Harassed In Bathroom After Donating Hair To Cancer Patients (VIDEO)',\n",
       " 'UK defense minister: PM May decides on cabinet hiring and firing',\n",
       " ' Patton Oswalt Just DESTROYED Sarah Palin In This Hilariously Accurate Impression (TWEETS)',\n",
       " ' Trump Is Trying To Discredit Bob Mueller, And Here’s How',\n",
       " 'OBAMA’S BACKDOOR GUN CONFISCATION: 260,000 VETERANS STRIPPED Of Second Amendment Rights',\n",
       " 'Is North Korea’s Kim Jong-un Considering Using 70-Year Old Biplanes to Go Undetected By Modern Radar?',\n",
       " \"Senator Corker: Congress won't end Cuba embargo under Obama\",\n",
       " 'Baltimore primary voters back reform candidate for mayor after Freddie Gray unrest',\n",
       " 'Maverick state governor takes aim at Mexican presidency',\n",
       " ' White House CLOBBERS Texas Lt. Gov Outrage Over Trans Students, And It’s GLORIOUS',\n",
       " 'Trump shows interest in bipartisan tax reform as Obamacare repeal collapses',\n",
       " 'NATO head says all states must comply with North Korea sanctions',\n",
       " 'Unclear if anyone will attend Mugabe cabinet meeting: spokesman',\n",
       " 'Brazil poll shows Temer approval plummets on new graft charges',\n",
       " 'U.S. Democrats try to force vote on independent Russia probe',\n",
       " ' Case Regarding Cruz’s Birthright Citizenship Reaches Supreme Court',\n",
       " 'U.N. rights forum condemns crimes against Rohingya, seeks access, justice',\n",
       " ' John Legend Absolutely DESTROYS Trump Jr. In Brilliant Twitter Comeback (TWEETS)',\n",
       " 'China says wants deeper Singapore military ties, raps Taiwan relations',\n",
       " 'Democrat Clinton picks Kaine as running mate, bypassing liberals',\n",
       " 'JIMMY FALLON ASKS TRUMP If He Can Mess Up His Hair…What Happens Next Is Hilarious! [VIDEO]',\n",
       " \"U.S. opposes changing NJ Senator Menendez's corruption trial schedule\",\n",
       " '22 LATINOS ARRESTED In Largest Food Stamp Fraud Bust In History…Here’s How They Did It',\n",
       " 'Republican tax bill hits wind power, solar largely unscathed',\n",
       " 'NEW VIDEO Of United Airlines Passenger Emerges: “I won’t go…You can drag me, I’m not going…I’m staying right here…I tell you…make a lawsuit against United Airlines”',\n",
       " 'Sanders rejects deal on Puerto Rico, offers alternative',\n",
       " 'FLASHBACK: CNN HOST Concerned Working Americans “Are Going To Vote For Donald Trump Again” After Getting Bonuses and Pay Raises',\n",
       " ' Republican Response To Obama’s SCOTUS Nominee Is INFURIATING (VIDEO)',\n",
       " 'CHRISTIAN GROUPS FEARFUL AFTER TARGETED in Fake Hate Groups List Released by CNN',\n",
       " \"Thousands of voters in limbo after Kansas demands proof they're American\",\n",
       " 'Trump, without evidence, cites Ukraine ties to ex-rival Clinton',\n",
       " 'JUST IN: FBI Supervisor Fired For Anti-Trump Texts Oversaw Michael Flynn Interviews',\n",
       " 'Chaffetz may not finish U.S. House term: media reports',\n",
       " 'DICK MORRIS: HOW HILLARY Hired “Secret Police” To Threaten, Smear Bill’s Rape, Sexual Assault Victims [VIDEO]',\n",
       " \"Probe of Clinton's email driven by facts, not politics: White House\",\n",
       " 'WHOA! BILL O’REILLY DROPS BOMBSHELL Report About Key Accuser In Sexual Harassment Case That Could Prove He Was Unjustly FIRED By FOX News',\n",
       " 'WHY TRUMP’S NEW CEO Will Be The Left’s Worst Nightmare',\n",
       " \"CHILLING TESTIMONY Of Brave 7th Grader At TX School Board Meeting: “Today I was given an assignment at school that questioned my faith and said that ‘God is not real'” [VIDEO]\",\n",
       " 'German coalition talks stumble on migration, climate',\n",
       " 'TUCKER ON COMEY’S FIRING: “Dictatorship by the unelected…that’s the REAL danger” [Video]',\n",
       " \"Ireland says Brexit talks can't move on without clarity over border\",\n",
       " \"Spain's Rajoy wants to work with other parties on Catalan question\",\n",
       " 'International Red Cross to \"drastically\" cut Afghan operations after attacks',\n",
       " ' Five Times Five-Time Draft Dodger Donald Trump Insulted Those Who Actually Served',\n",
       " 'Ryan has concerns over 9/11 Saudi bill but predicts veto override',\n",
       " 'Turkey backs Syrian rebels for \"serious operation\" in Idlib',\n",
       " ' Racists Are THRILLED With Trump’s New Campaign Boss',\n",
       " 'Senior U.S., Russian diplomats to meet in Washington next week',\n",
       " \"Lebanon's Jumblatt calls for Saudi-Iranian discussions\",\n",
       " ' Despite Republican’s Best Efforts, SCOTUS Just Allowed Louisiana Abortion Clinics To Reopen',\n",
       " 'DO YOU KNOW WHO THIS IS? CLINTON FAMILY CORRUPTION RUNS DEEP',\n",
       " ' Sicko In Texas Wants To Make A Buck Off Harvey Disaster, And It Might Land Her In Hot Water',\n",
       " '(VIDEO) RIOTERS TAKE SELFIES WITH TORCHED POLICE CAR',\n",
       " 'U.S. will not interfere in EU trade with Iran: Tillerson',\n",
       " \"U.S. lawmaker's controversial tweet on immigration draws fire\",\n",
       " ' Ann Coulter Goes Full Bigot – Calls Khizr Khan A ‘Snarling Muslim’ In Televised Rant (VIDEO)',\n",
       " 'BREAKING: RUSSIA SMELLS OBAMA’S FOREIGN POLICY WEAKNESS AND MAKES A MOVE',\n",
       " \"U.S. takes 'full responsibility' for Manchester intelligence leaks:  Tillerson\",\n",
       " 'WATCH: PRESIDENT TRUMP Hilariously Exposes Hypocrisy Of Democrats, Media Allies On Comey Firing In One PERFECT Video',\n",
       " 'German parties hope to agree deal outlines by Friday',\n",
       " 'Leftists on cusp of power as weary Icelanders go to polls',\n",
       " ' How The GOP Became The Party Of White Supremacists Under Donald Trump',\n",
       " 'Senate sets fight over Education Secretary for next week',\n",
       " 'Turkey frees German journalist Tolu but she cannot leave country:  Berlin government',\n",
       " 'CNN Anchor Asks Van Jones To Take Back His Praise For President Trump…Viewers Are STUNNED By His Response [VIDEO]',\n",
       " 'MUST WATCH VIDEO: WATCH WHAT TRACK & FIELD OLYMPIAN Does When Our National Anthem Is Played [Video]',\n",
       " 'Factbox: Why the Zika virus is causing alarm',\n",
       " \"Treasury's Mnuchin concerned about alternate scoring models of Trump tax plan\",\n",
       " ' This One Tweet Explains How Close Trump Is To Destroying America',\n",
       " 'WATCH: ARROGANT Sexual Predator and Sometimes “Comedian” Louis C.K. Tells Stephen Colbert “Donald Trump Is An Insane Bigot and Hitler”',\n",
       " 'Senate Republican leader: Obama politicizing Supreme Court process',\n",
       " 'SHOCKING COMMENTS AGAINST TRUMP Expose Intelligence Committee’s Schiff: ‘He doesn’t put the country first’ [Video]',\n",
       " ' We Watched Sarah Palin’s Trump Endorsement Speech So You Don’t Have To (VIDEO)',\n",
       " 'Greek prime minister says Turkey should continue its European orientation',\n",
       " \"Factbox: Key points of Trump's 2018 budget proposal\",\n",
       " 'Iran fulfilling nuclear deal commitments: IAEA chief',\n",
       " 'Putin says Trump hampered from delivering electoral promises',\n",
       " \"South Africa's unruly ANC branches kick off race to succeed Zuma\",\n",
       " 'DISGUSTING: ANARCHIST PUNK Calls U.S. Veteran “Anti-American”…VETERAN Yells Back “I’m a Patriot!” [Video]',\n",
       " 'Hungarian villagers in backlash against holiday for migrants',\n",
       " 'Detained asylum-seekers win right to sue PNG government for compensation',\n",
       " 'FBI to give media some Clinton notes over email use: CNN',\n",
       " ' Despite Being Warned, Trump Immediately Gives Saudi Hosts An Insulting ‘Middle Finger’ Gesture',\n",
       " 'Canadian tech companies ask Ottawa to issue visas after U.S. ban',\n",
       " ' WATCH: Trump Issues Bizarre Response To Leak Of Groping Audio, And It’s A Total DISASTER (VIDEO)',\n",
       " ' The IRS Already Commented On Trump’s Tax Returns And Even They Call Him A Liar (VIDEO)',\n",
       " '5-YR OLD CHRISTIAN GIRL Forced To Live With Non-English Speaking Devout Muslims…Tells Her Christmas and Easter Are Stupid…Takes Away Her Crucifix',\n",
       " 'Austrian leader defends EU credentials in Brussels',\n",
       " ' ‘Apprentice’ Producer: Lewd #TrumpTapes Are Nothing – There Is ‘Far Worse’ To Come (TWEETS)',\n",
       " 'Democratic nomination will likely be won in March: Clinton campaign manager',\n",
       " \"Factbox: Contenders for senior jobs in Trump's administration\",\n",
       " 'U.S. senator says panel could take up Russia sanctions bill this summer',\n",
       " 'Hannity Interview with Julian Assange: Wikileaks Source is NOT The Russian Government',\n",
       " ' Donald Trump Likes How North Korean Dictator Kills People To Solidify Power (VIDEO)',\n",
       " ' ‘Apprentice’ Contestants Reveal MORE Shocking Info About How Trump Treats Women (VIDEO/TWEETS)',\n",
       " 'THE DEMOCRAT WHO WROTE A PAPER About How Women Fantasize About Being Gang Raped Draws Larger Crowds Than GOP Presidential Candidates',\n",
       " 'China warns Trump against ignoring its Taiwan interests',\n",
       " ' WATCH: Kellyanne Conway BASHES Americans Who Oppose Trumpcare: They Are Jeering From The ‘Cheap Seats’',\n",
       " 'HOW OBAMA’S NEW DOJ PLANS TO BYPASS CONGRESS TO IMPLEMENT GUN CONTROL',\n",
       " 'India agrees to hold talks on Afghanistan with U.S., Kabul',\n",
       " 'Clinton campaign chairman testifies in House Russia probe',\n",
       " 'Push for encryption law falters despite Apple case spotlight',\n",
       " ' Trump Supporters Show They’re Not As Crazy As You Thought — They’re WORSE (VIDEO)',\n",
       " 'DISNEY’S ESPN PUNISHES TRUMP FOR FREE SPEECH…Isn’t It Time America Punished DISNEY For Putting Their Leftist Agenda Before Free Speech?',\n",
       " 'Trump says democracy must be restored in Venezuela soon',\n",
       " 'Top U.N. officials warn that North Korea sanctions harming aid delivery',\n",
       " \"Venezuela opposition leader Guevara seeks refuge in Chile ambassador's home\",\n",
       " \"World 'running out of time' on North Korea, Trump to tell Asia: White House\",\n",
       " ' Trump Mocked ‘Retarded’ Reporter For Calling Out His Shady Business Deals (VIDEO)',\n",
       " \"Biden tells Baltic states: Don't take Trump seriously\",\n",
       " 'Exclusive: U.S. congressional committee demands answers on WHO cancer agency',\n",
       " 'OKLAHOMA Supreme Court Rules Punishing Smokers With Cigarette Tax “Unconstitutional”…Lawmakers Forced To Fill SHOCKING Hole In State Budget',\n",
       " ' Right-Wing Firefighter Suspended After HORRIFIC Threat To Barack Obama (SCREENSHOTS)',\n",
       " 'EUROPE CRASHES AND BURNS, As EU Officials FINALLY Admit Secret About “Refugees” They’ve Known For A While',\n",
       " 'House to vote on federal budget next week: House Speaker Ryan',\n",
       " '‘We’re Just Not Into Her’ – Hillary Clinton Losing Support of Millennials',\n",
       " 'GEORGE SOROS WILL DUMP $500 MILLION Into Obama’s Plan To Flood America With Muslim Refugees Vetted By UN',\n",
       " ' Flint’s Mayor Knows Which Candidate Has Their Back, Makes GLOWING Endorsement',\n",
       " ' Clinton Skewers GOP Candidates After Muslim Vet Asks Her An Emotional Question (VIDEO)',\n",
       " 'Shelling hits besieged Syrian Ghouta school gate after aid delivery',\n",
       " 'LEFTIST ANTIFA Attacks Boston Police…Shows Their True Colors in Violent Display Against Free Speech [Video]',\n",
       " 'U.S. mounts air strike against al Shabaab militants in Somalia',\n",
       " \"Factbox: Contenders for key jobs in Trump's administration\",\n",
       " 'MUSLIM DEMOCRAT WOMAN Is Asked How She Feels About Trump’s Presidency: “If Arab countries can ban Muslim Brotherhood why can’t we?”',\n",
       " 'In a corner of a French field, memories of U.S. segregation',\n",
       " 'BODY LANGUAGE EXPERT Gives Clear Examples Of Susan Rice Lying About Trump Surveillance During Interview [VIDEO]',\n",
       " ' Hillary’s Running Mate Tim Kaine: The NRA Hates Him, And He Kicked Their Butts (VIDEO)',\n",
       " 'Merkel signals readiness for new election after coalition talks collapse',\n",
       " ' The Trump Family’s Expressions During Ted Cruz’s RNC Speech Are Priceless',\n",
       " '(VIDEO) CONGRESSIONAL BUDGET OFFICE: DEBT HEADED TO 103% OF GDP – LAST SEEN AT END OF WWII',\n",
       " 'Trump warns of riots, pulls plug on Republican presidential debate',\n",
       " ' WATCH: Joy Reid HAMMERS Republicans For Wasting Taxpayer Money To Pay For Trump’s Wall',\n",
       " ' Fox News: Trump Is The One To Blame for White House ‘Disarray’ (VIDEO)',\n",
       " 'Republican Senator Lee undecided on tax bill, seeks child credit changes: aide',\n",
       " \"Haley says does not want Secretary of State Tillerson's job\",\n",
       " 'Obama, Clinton scold Trump over proposed Muslim ban',\n",
       " 'SHOCKER! BRATTY KID WHO SAID “Screw Our President!” Is Drew Carey’s Son! [Video]',\n",
       " 'CROCODILE TEARS: Watch Obama Use Phony Outrage To Gain Sympathy For Gun Control',\n",
       " ' Trump’s Approval Rating Takes Game-Changing Turn In 11 Pro-Trump States (DETAILS)',\n",
       " \"Argentine president calls Trump a 'very tough negotiator'\",\n",
       " \"Turkey's Atlasglobal says flights out of Copenhagen back to normal: statement\",\n",
       " 'EMOTIONAL TRUMP ENDORSEMENT From Former FBI Asst Director: “Our country is going down the tubes” [Video]',\n",
       " 'GOODBYE, LONDON! Here’s The Lowdown On The Muslim Mayor Who Calls Moderate Muslims “Uncle Toms” [Video]',\n",
       " ' Everyone Is Freaking Out Over This ‘Visitor’ At A Bernie Sanders Rally (VIDEO/TWEETS)',\n",
       " 'MEET THE GUY Milwaukee Is Rioting Over…Interesting PHOTOS Emerge Of Sylville Smith And Friends',\n",
       " 'BOOM! KELLYANNE CONWAY Schools CNN’s Anderson Cooper On The Comey Firing [Video]',\n",
       " 'JUST IN: NYC TERRORIST Allegedly Entered U.S. On NY Democrat Senator Chuck Schumer’s ‘DIVERSITY VISA” Program',\n",
       " 'OBAMA HAS BLOOD ON HIS HANDS: Otto Warmbier Has Died Days After Release From North Korean Captivity {Video]',\n",
       " '“A BEAUTIFUL CHRISTMAS PRESENT”: How Tax Brackets Could Change Under Republican Tax Plan',\n",
       " ' BREAKING: Lithuania Warns That Russia Is Preparing For War Against Europe',\n",
       " 'Supreme Court temporarily blocks Louisiana abortion law',\n",
       " 'Boiler Room #66 – Globo-Terror & The PokeGo-pocalypse',\n",
       " \"Spain's constitutional court annuls Catalan declaration of independence\",\n",
       " 'HARSH AND TRUE! TOP TEN Reasons Obama Was The WORST President EVER! [Video]',\n",
       " 'China warns against attempts to contain Beijing before Trump visit',\n",
       " ' Black Family BLASTS Trump For Using Photo As ‘Propaganda’: We DON’T Support Him',\n",
       " 'Boiler Room EP #84 – The Discredited Media Strikes Back',\n",
       " 'FED’S PREVENT ‘Mother of the Year’ From Boarding Plane To Join ISIS, Planning To Leave Two Daughters Behind In Philadelphia',\n",
       " ' Watch Trump’s Campaign Manager Crash And Burn While Claiming Trump Doesn’t Lie (VIDEO)',\n",
       " 'U.S. representatives question bank regulator on whistleblowers',\n",
       " 'BOMB THREAT AND CRITICISM HITS HISPANIC BBQ OWNER’S PLANS FOR WHITE APPRECIATION DAY',\n",
       " 'Longest-serving justice on Delaware Supreme Court to retire',\n",
       " 'Damascus shelling kills three before truce agreed',\n",
       " 'Treasury Secretary’s Actress Wife Answers Critics on the Left for ‘Deplorable’ Display of Wealth…Poses In Couture Gowns',\n",
       " \"Foreign government code reviews 'problematic': White House cyber official\",\n",
       " \"Hungary's opposition Socialists lose PM candidate ahead of 2018 vote\",\n",
       " ' YOU’RE FIRED: Fox News Is Finally Kicking Trump Pal Bill O’Reilly To The Curb And It’s About Damn Time',\n",
       " ' Bill Maher Explains How Every Republican Can Change — Except On This One Issue (VIDEO)',\n",
       " \"Catalonia's High Court asks Spanish police to provide security in case of independence\",\n",
       " 'Clinton slams Trump for comments on offensive against Islamic State',\n",
       " 'Commandos storm plane in Philippines-U.S. hijack simulation',\n",
       " 'Beijing seen poised for fresh South China Sea assertiveness',\n",
       " 'TRAGIC! JOBLESS AMERICANS Forced to Train Their Foreign Replacements Speak Out: “This is not about skills…This is about costs” [Video]',\n",
       " ' Trump Tweets About His Impeachment Chances In Latest (And Perhaps Greatest) Self-Own',\n",
       " 'Three dead bodies pulled from sea near Spain after migrant boat sinks',\n",
       " 'Ireland set for December election if crisis not averted by Tuesday -PM',\n",
       " ' Democrats Launch Plan To Make Trump’s First Speech To Congress VERY Uncomfortable',\n",
       " 'Yemen humanitarian situation likely to worsen with Saleh death: Mattis',\n",
       " 'Trump already a tainted name in Indonesia after Muslim ban remarks',\n",
       " 'MUST WATCH VIDEO: BUSH EERILY WARNS US ABOUT ISIS',\n",
       " ' Red States Think A Bag Of Weed Is More Dangerous Than Illegal Guns',\n",
       " 'Trump urged Washington to stop bank mergers in 2004 letter',\n",
       " \"Russia says Trump's 'aggressive' stance on Iran doomed to fail\",\n",
       " 'VILE! MICHELLE OBAMA Spews Her Best Racial Hate Speech At A Commencement Ceremony In NY[Video]',\n",
       " 'Head of Russian general staff reassures NATO over war games: RIA',\n",
       " 'BEWARE THE UNITED NATIONS PUSH FOR “GLOBAL GOVERNANCE” FOR THE “GOOD OF THE PLANET”',\n",
       " 'Jailed British-Iranian charity worker faces new charges: family',\n",
       " 'Media Links Domestic Drone Surveillance to Trump with ZERO Evidence',\n",
       " 'U.S. Senate Republican tax proposal diverges from House bill on cuts',\n",
       " 'French Journalist Hit With Huge Fine For “Inciting Hate” Against Muslims…Even Though We All Know What He Said Is True',\n",
       " ' BREAKING: Sources Reveal Trump HIMSELF Met With Russian Ambassador During Campaign (DETAILS)',\n",
       " ' GOP Anti-Trumpers Have A Hail Mary Idea To Stop Trump That Just Might Work',\n",
       " ' New Accuser Confirms She Got Roy Moore Banned From The Mall (VIDEOS)',\n",
       " ' White Hollywood Stars Say Black Actors Should Be ‘Patient’, And The Oscar Boycott Is ‘Anti-White Racism’',\n",
       " 'Campaign aims to register a million U.S. Muslims voters in anti-Trump move',\n",
       " ' Stephen King Tweets ULTIMATE Sean Spicer Insult That Is Pretty Goddamn Funny (TWEET)',\n",
       " 'NATIONAL TREND? Jimmy John’s Employee Refuses To Serve Police Officer [VIDEO]',\n",
       " ' Bin Laden’s Brother Lived In Trump Tower, Gave Millions To The Donald',\n",
       " 'BREAKING: Ecuadorian Embassy Admits They Cut Wikileaks Internet After Pressure From John Kerry',\n",
       " 'BROKE City of Chicago Spends Taxpayer Money Sticking It To Trump With HUGE ‘F YOU’ Installed Right Outside His Luxury Hotel',\n",
       " 'Sanders may debate Trump, not Clinton, before California contest',\n",
       " 'HERE’S WHAT HILLARY’S “FAIR GROWTH” Economic Plan Means For Americans [Video]',\n",
       " 'Munich prosecutors say nearing end of Austrian Eurofighter probe',\n",
       " 'Nasralla practically assured of Honduras election win-official',\n",
       " \"Mexico calls Trump wall plan 'outrageous' after visit\",\n",
       " 'REPORT: ‘Federal Government Escalated the Violence in Oregon’',\n",
       " 'LIVE STREAM: PRESIDENT TRUMP’S Historic Speech To The Muslim World: “Honestly confronting Islamist extremism” [Video]',\n",
       " 'Czech lawmakers vote to force PM candidate Babis to face fraud charges',\n",
       " \"Fearing Trump's next move, liberals urge Supreme Court conservative Kennedy to stay\",\n",
       " 'Gambian ministry says up to Togo to resolve crisis',\n",
       " ' JUST IN: Republicans In Florida Are Giving One Presidential Candidate A Pretty Big Lead Already (VIDEO)',\n",
       " 'TRUMP COMES OUT SWINGING: Watch Announcement On Taxes And Regulation…This Leader Means Business! [Video]',\n",
       " 'Obama to deliver farewell address in Chicago on January 10',\n",
       " 'Egypt military carries out air strikes in area of Sinai mosque attack: security sources',\n",
       " 'Macedonian court sentences ex-secret police official to 18 months in prison',\n",
       " 'DC WAITRESS Who Admits To Being Prejudiced…Gets Big Surprise From White Trump Supporters After She Participated In Women’s March',\n",
       " ' #MakeAmericaBrannigan: Futurama Voice Actor Reads Trump’s Most Infamous Quotes (TWEETS)',\n",
       " 'Canada could make some gains if NAFTA reopened: negotiators',\n",
       " 'Episode #208 – ‘Not The Network’ – Sunday Wire with Hesher, Funk$oul and Patrick Henningsen Live from Iraq',\n",
       " 'NATO ships hold missile defense drill near Scotland, Pentagon says',\n",
       " 'TOMI LAHREN: “AFTER 8 YEARS…We were part of a different march…we marched into the voting booth to vote for TRUMP!” [Video]',\n",
       " 'White House says U.S. values deeply special relationship with UK',\n",
       " 'MONTEL WILLIAMS Says Oregon Patriots Are “Undereducated Terrorist Buffoons” And National Guard Should “Shoot To Kill” Them',\n",
       " ' Republican Cop GOES OFF On The GOP, Slams Them For Being ‘Hypocrites’ And ‘Idiots’ (VIDEO)',\n",
       " '(VIDEO) KRAUTHAMMER: FORMER CIA DEPUTY DIRECTOR GIVES TELLING STATEMENTS THAT WILL BE USED AGAINST HILLARY',\n",
       " 'Turkey could break off ties with Israel over Jerusalem: Erdogan',\n",
       " \"Austria's conservative shift opens path to power for far right\",\n",
       " 'MARK ZUCKERBERG Rides Shotgun with Dale Earnhardt, Jr: “HOLY SH*T!” [Video]',\n",
       " 'KATIE HOPKINS WARNS AMERICANS Of Grave Danger Ahead: “Do Not Let This Great Country Become The United Kingdom” [VIDEO]',\n",
       " ' Even The Author Of Bush’s Torture Memos Says Trump Has Gone Too Far (DETAILS)',\n",
       " \"Syria's Assad calls U.S.-backed militias 'traitors'\",\n",
       " 'Top ranks of career U.S. diplomats thin under Tillerson: union',\n",
       " 'Mattis praises Philippine army on winning fight in Marawi without rights abuse',\n",
       " 'A DAY Without “ILLEGAL” Immigrants BACKFIRES…Ends Up Being A Day Of “You’re Fired!”',\n",
       " 'Nigeria ex-vice president prepared to run for presidency in 2019',\n",
       " 'SEX ROULETTE PARTIES On The Rise…One Person Is Secretly HIV…Entertained By “Thrill” Of Not Knowing [VIDEO]',\n",
       " ' Trump Just Tweeted The Stupidest Thing He’s Said This Week – And Twitter Tore Him A New One (TWEETS)',\n",
       " 'NEW YORK GOVERNOR Pardons 18 CONVICTED Illegals Waiting for Deportation…Cut Off Fed Funds Now!',\n",
       " 'ABC NEWS REPORTS: Las Vegas Massacre Suspect’s Hard Drive Is MISSING From His Laptop',\n",
       " 'MORE WINNING! After 14 Year Ban, China Welcomes Back US Beef To Their Multibillion-Dollar Market',\n",
       " \"Paris mayor says Trump climate withdrawal 'a mistake with fatal consequences'\",\n",
       " 'RADICAL, INTOLERANT Students Held College Administrators HOSTAGE…And No One Cared [VIDEO]',\n",
       " 'Crisis over Catalan independence nears crucial few days',\n",
       " ' Florida Is About To Make Murder Legal – Yes, Really',\n",
       " ' WATCH: Donald Trump Explains His New Muslim Ban ‘Expansion’ Plan',\n",
       " 'Spanish court orders Google to delete app used for Catalan independence vote',\n",
       " ' Right-Wing Broadcaster: Teenage Girl Is A ‘Prostitute’ For Being Afraid Of Bundy Militia (VIDEO)',\n",
       " 'GOTTA LOVE IT! PRESIDENT TRUMP Refers to Trudeau as ‘Justin from Canada’ [Video]',\n",
       " ' Mexico’s Former President UNLOADS On Trump With A Brutal ‘F*ck You’ To The ‘Hated Gringo’ (IMAGE)',\n",
       " ' How John Oliver And A Cat Created An International Incident (VIDEO)',\n",
       " 'WATCH: RACIST RAPPER WHO HUNG WHITE KID In Latest Video Gets Cold-Cocked On Stage',\n",
       " \"Contenders, picks for key jobs in Trump's administration\",\n",
       " ' These Secret Koch Bros. Memos Expose Propaganda Plans',\n",
       " ' Nancy Pelosi Just Trolled The Hell Out Of Paul Ryan’s Trump Support, And It’s AMAZING (TWEET)',\n",
       " 'Majority of Americans support next president pushing tighter gun laws: poll',\n",
       " ' Bernie Sanders Reveals His Full Health Care Funding Plan: The 1% Are Going To Hate It',\n",
       " \"U.S. congressional panels spar over 'Trump dossier' on Russia contacts\",\n",
       " \"Kerry says raised Democrat email hack with Russia's Lavrov\",\n",
       " 'HILARIOUS! LIBERALS STUNNED When Republican Guest Won’t Play Race-Baiting Game With MSNBC Host…Cuts Off Interview [VIDEO]',\n",
       " ' Trump’s ‘Taco Truck’ Guy Spoke Again – Guarantees No Latino Will Ever Vote For Trump (VIDEO)',\n",
       " 'U.S. defense budget proposal sees modest increase despite hawkish rhetoric',\n",
       " 'WIKILEAKS: No Stamina? Hillary’s Aide Asked To Cut Speech Due To Lack Of Podium…To Lean On',\n",
       " 'WHY ARE VAN LOADS OF ILLEGALS Being Moved and Released Away From The Border?',\n",
       " ' Obama Has A POWERFUL Message For Democrats In Despair About Trump Win (VIDEO)',\n",
       " ' Trump’s Logo Failed So Miserably He Removed All Trace Of It After Only One Day Of Mockery',\n",
       " 'Clinton need not give sworn testimony over emails: U.S. judge',\n",
       " 'Factbox: Saudi king lifts ban on women driving - but what about other rights?',\n",
       " 'U.S. Senate approves Chao to lead Transportation Department',\n",
       " 'U.S. security adviser says Trump did not cause lapse in national security',\n",
       " 'BREAKING: HOUSE Votes “Yes” On American Security Against Foreign Enemies Act…But What Does That Really Mean For Our Nation’s Security?',\n",
       " 'FAMILY LIVING ‘TRADITIONAL LIFESTYLE’ TORN APART: POLICE SEIZE 10 Homeschooled “Off Grid” Children From Their Family',\n",
       " 'Republicans to kill U.S. rules on corruption, environment, labor and guns next week',\n",
       " 'UNREAL! HILLARY CLINTON Plays Dumb On The High Cost Of Obamacare [Video]',\n",
       " '“LONE SURVIVOR” MARCUS LUTTRELL’S Powerful GOP Convention Speech [Video]',\n",
       " ' While The World Is Freaking The Hell Out Trump Is Watching ‘Finding Dory’',\n",
       " 'FINALLY! DOCUMENTS FOUND Support Donald Jr.’s Account of Meeting With Russian Lawyer',\n",
       " 'Pelosi re-elected to House Democratic leadership post',\n",
       " 'U.S. says strategy on North Korea centers on sanctions, open to talks',\n",
       " 'Trump attorney disputes Comey testimony, slams leak',\n",
       " 'State Department to resume briefings in March after six-week hiatus',\n",
       " 'HILLARY CAUGHT IN THE ACT OF Breaking The Law In NY To Get Votes [VIDEO]',\n",
       " ' Fox News Hacked Phone Records, Emails Of Media Matters Journalists',\n",
       " \"Britain's Prime Minister May to speak with Donald Trump: spokesman\",\n",
       " \"China's ruling Communist Party expels former Gansu party boss for graft\",\n",
       " 'SENATOR WANTS ANSWERS ON MISSING TSA BADGES AFTER TSA TRIES TO BLOCK INVESTIGATION',\n",
       " 'THEY KNEW! Federal Government Knew Flint, MI Water Was POISONED, Kept It Hidden…10 Have Already Died',\n",
       " 'SANCTIMONIOUS, OPEN-BORDERS PAUL RYAN Is Tanking In Polls…Will FED UP Voters Avenge Non-Trump Supporters In November?',\n",
       " 'Five suspected al Qaeda militants killed in Yemen drone strikes',\n",
       " 'WATCH: TRUMP’S BI-RACIAL, FORMER GIRLFRIEND Of Two Years…”I Would Never Date A Racist”',\n",
       " \"Blast hits Afghan capital near Shi'ite mosque, killing at least one\",\n",
       " 'REPORT: NJ GOV Chris Christie’s BIG ‘Mistake’ That Cost Him WH Job',\n",
       " ' Trump’s Selfishness Is Already KILLING Business In New York City',\n",
       " ' These Panties Let You Protest Anti-Choice Republicans In The Most HILARIOUS Way (IMAGES)',\n",
       " 'GUESS WHERE THE BALTIMORE SCHOOL SYSTEM RANKS AMONG THE NATION’S 100 LARGEST SCHOOL DISTRICTS?',\n",
       " 'Iran president defends Guards in show of unity anticipating Trump',\n",
       " 'Rescuers search for Philippine storm victims as toll rises to 200',\n",
       " 'BREAKING: Devin Nunes Makes HUGE announcement About Clinton #UraniumOneDeal [Video]',\n",
       " \"Court nominee was not commenting on Trump's tweets: White House\",\n",
       " ' Looks Like Sarah Palin Is About To Become The Next Judge Judy — No, Really',\n",
       " ' Texas Governor Wants Christian Crosses On Cop Cars',\n",
       " 'Exclusive: White House weighs tightening U.S. food aid shipping rules - sources',\n",
       " \"Email leak may hurt Democratic party chair's re-election bid\",\n",
       " \"Angola's opposition appeals election results\",\n",
       " 'Trump nixes Abrams for No. 2 State Department job: sources',\n",
       " 'UNREAL! REPUBLICAN SENATE CONFIRMS ERIC HOLDER IN A SKIRT: ANTI-GUN, PRO-ILLEGAL, RADICAL RACIST WHO BELIEVES IN THE MURDER OF ABORTED BABIES BORN ALIVE',\n",
       " 'AFTER GM’S TAXPAYER BAILOUT AND $10 BILLION IN FORGIVEN DEBT…Cars Now Made In China [Video]',\n",
       " 'Judges consider HK double murder appeal by convicted former British banker',\n",
       " ' Ted Cruz’s Tour Bus Gets Towed In Iowa – Has To Hitch A Ride (IMAGES)',\n",
       " ' Trump Responds To Elizabeth Warren’s Brutal Tweets Against Him – Fails Miserably (VIDEO)',\n",
       " 'Jason Chaffetz Calls Out the GOP: “Republicans need to get a backbone!” [Video]',\n",
       " ' Donald Trump PANICS Over Russia And Fires Off Two Bizarre Tweets – Twitter CRUSHES Him (TWEETS)',\n",
       " 'THE STATE THAT GETS MORE REFUGEES THAN ANY OTHER IN AMERICA MAY SURPRISE YOU',\n",
       " ' Republican EXPLODES After Obama Foils Evil Scheme To Sell Apache Holy Land To Mining Firm',\n",
       " 'HYSTERICAL…THE DEMOCRAT CONVENTION Schedule Is Revealed',\n",
       " ' Missouri Legislators Took 32,138 Free Gifts From Lobbyists',\n",
       " 'U.S. Treasury nominee says would enforce all Russia sanctions',\n",
       " 'HOW IS IT RACIST To Want Closed Borders And Protect Citizens From Terrorists?',\n",
       " 'Obama lauds Denver Broncos, Peyton Manning for Super Bowl win',\n",
       " 'WATCH: Colin Kaepernick’s Worst Nightmare [Video]',\n",
       " 'YOU CAN’T MAKE THIS UP: Special Counsel Leading Trump-Russia Collusion Investigation Is Person Who Gave Russians Uranium Under Direction Of Crooked Hillary',\n",
       " 'WAS HIS DEATH COINCIDENTAL? [VIDEO] He Warned Us Obama Would Divide Us By Race And Class…He Claimed He Had Proof…Then Suddenly He Died',\n",
       " 'BREAKING NEWS: Reince Priebus Makes Early Return Home From Trump’s First Foreign Trip',\n",
       " \"Tillerson urges 'new approach' to North Korea, gives no details\",\n",
       " \"Canada's Trudeau broke ethics rules with visit to Aga Khan island\",\n",
       " 'Islamic State claims responsibility for Aden car bomb: Amaq',\n",
       " 'OBAMA REGIME AGREES TO CUT DEAL WITH IRAN THAT FURTHER THREATENS OUR NATIONAL SECURITY',\n",
       " ' Trump Is Building Literal, Actual Concentration Camps For Undocumented Immigrants',\n",
       " 'REALIST PERSPECTIVE: President Trump, How & Why…',\n",
       " 'Moderate Collins back in prominent role in Senate tax drama',\n",
       " 'WHY TRUMP’S OWN CHILDREN WON’T Be Voting For Him In NY Primary',\n",
       " 'Spanish court blocks second law linked to Catalan referendum',\n",
       " 'Liberty Report talks to Vanessa Beeley: ‘Everything the US media says about Aleppo is wrong’',\n",
       " ' Robert DeNiro Axes Anti-Vaxxer Movie From Tribeca Film Festival',\n",
       " ' Trump Just Went After China In UNHINGED Rant; America’s Future In FREE FALL (DETAILS)',\n",
       " ' Angry ‘Patriot’ Who Assaulted A Black Woman At A Trump Rally Finds Out It Ruined His Life(IMAGES)',\n",
       " \"Trump's energy pick Perry softens stance on climate change\",\n",
       " ' Conservatives Raise Hell Over Obama’s Wedding Ring With Dumbest Conspiracy Ever (SCREENSHOTS)',\n",
       " 'Japan PM aims to strengthen U.S. alliance under President Trump',\n",
       " 'DEPARTMENT OF JUSTICE Fines Sheriff For Excluding Illegals When Hiring',\n",
       " 'IS MEGYN KELLY Planning To Leave FOX News? [VIDEO]',\n",
       " 'Trump says he has narrowed potential running mate picks to five or six: AP',\n",
       " 'Venezuela has problems fulfilling obligations on debt: Russia',\n",
       " ' Lead BENGHAZI Witch Hunter Just Accidentally Admitted Main Conspiracy Theory Is Bullsh*t (VIDEO)',\n",
       " 'VP Pence hires political operative as top aide steps down',\n",
       " 'Canada to propose helicopters for U.N. Mali mission: sources',\n",
       " 'Trump administration to review goal of world without nuclear weapons: aide',\n",
       " 'DESTROYED IN 10 SECONDS: Tucker Carlson EXPOSES Hypocrisy Of Liberal “MASH” Actor Who’s Asking Electors To BLOCK Trump From Becoming President [VIDEO]',\n",
       " 'CLINTON FAMILY REFUSES TO RETURN ‘Dirty’ Harvey Weinstein’s Money…You Won’t Believe Why',\n",
       " 'OOPS! Here’s Proof The Left Used “Schlonged” When Referring To One Of Their Own In 2011 [VIDEO]',\n",
       " 'Trump-installed consumer agency head sets hiring freeze, halts new rules',\n",
       " \"Text of Michael Flynn's letter resigning as national security adviser\",\n",
       " 'Trump orders review of financial rules to prevent future crises',\n",
       " 'JUDGE JEANINE PIRRO Rips Into The Lying Media “In Cahoots with Clintons” [Video]',\n",
       " 'Trump on Twitter (August 10): Mitch McConnell',\n",
       " ' Man Without Shirt Was Shivering On Train, What Happens Next Restores Faith In Humanity (VIDEO)',\n",
       " 'Media Links Domestic Drone Surveillance to Trump with ZERO Evidence',\n",
       " ' Trump’s SCOTUS Pick Sided With Hobby Lobby Against Women, Thinks Christianity Trumps ‘Secular Courts’',\n",
       " 'DIRTY POLITICS: HOW OBAMA’S INTEL RULES CHANGES Opened The Door For More Spying On Americans',\n",
       " 'BOOM! Rep Louie Gohmert (R-TX) Rips Into Obama’s Gun Grabbing Legislative Minions: “Radical ISLAM Killed These People!” [VIDEO]',\n",
       " ' 117 Days On The Job And Trump Just Had A Major Meltdown In Front Of The World',\n",
       " 'JUST IN: Washington Post Exposed: Russia Story: ‘F*cking Crap Shoot…Maybe it Doesn’t Exist’ [Video]',\n",
       " 'Art of the spin: Trump bankers question his portrayal of financial comeback',\n",
       " \"Cambodian opposition member pardoned at PM's request\",\n",
       " 'Mexico Senate committees pass controversial security bill',\n",
       " 'STUDENT NEWSPAPER At Hillary’s Alma Mater: It’s Okay To Use Violence To Shut Down Free Speech [VIDEO]',\n",
       " 'CLUELESS HILLARY SUPPORTERS Endorse Karl Marx For Vice President [Video]',\n",
       " \"Britain's May defeated in parliament over Brexit blueprint\",\n",
       " 'Senate healthcare holdout Collins never got call from Trump',\n",
       " 'Tyranny Of 9/11: The Building Blocks Of The American Police State From A-Z',\n",
       " 'TREASURY DEPT Depicts Lady Liberty As A Black Woman On New U.S. Coin',\n",
       " ' Trump Threw Himself A Victory Party And Barely Anyone Showed Up',\n",
       " 'TAXPAYER FUNDED OPERATION CONSERVATIVE TAKE DOWN : DOJ Awards MI State Univ Huge Grant To Study ‘Far Right” Groups Use Of Social Media',\n",
       " 'Fox News Cuts Off Terror Expert Before He Could Describe Who Commits Terror 99.9% Of The Time #ParsonsGreen [Video]',\n",
       " 'THIS IS HUGE: VETERAN Blasts Lying Hillary At The Presidential Forum TONIGHT [VIDEO]',\n",
       " 'Federal judge blocks Florida law to end abortion clinic funding',\n",
       " 'NFL CUTS FUNDS for Breast Cancer, Military Charity to Pay for Players’ $89 Million ‘Social Justice’ Activism',\n",
       " ' Thanks To Trump, ‘Local Milk People’ Is Trending, And That’s Not Weird AT ALL',\n",
       " ' WATCH: Samantha Bee STOMPS Conservative ‘Christians’ Using Their Own History',\n",
       " 'WATCH: FOX News Host And Commentator Suspended On Same Day For Using ‘Colorful Language’ To Describe Obama',\n",
       " 'STORE OWNER Delivers HILARIOUS Message Of Support On Digital Sign For L.L. Bean After Left Organizes Boycott',\n",
       " 'Kremlin critic Navalny jailed for third time this year',\n",
       " 'ZOMBIE HILLARY Makes Bizarre Statement On Plane After NYC Bomb Explosion…#ZombieHillary [Video]',\n",
       " \"Biden, Iraq's Abadi discuss military, financial support in call: White House\",\n",
       " \"Magazine's anti-Trump editorial spurs Republican debate\",\n",
       " \"Merkel call to stop Turkey's EU bid draws mixed response\",\n",
       " ' Trump Insists His Mexico Trip Was Successful For The Most Absurd Reason Ever',\n",
       " 'Woman who accused Bill Clinton of assault to campaign against Hillary presidential run',\n",
       " 'States refuse Trump commission request for U.S. voter data',\n",
       " 'TRUMP FEVER! W. VA Dem Senator Says He Won’t Vote With Party…Doesn’t Give A SH*T If It Costs Him Election, After Former Dem W. VA Governor Switched Parties At Trump Rally Last Week',\n",
       " ' Trump Epically Owned Himself In A Tweet And The Internet Is Having Fun With It',\n",
       " \"Venezuela's former ambassador to U.N. leaves the United States: source\",\n",
       " 'HOW WE KNOW AMERICA IS FINALLY WINNING: Popular Leftist Publication Urges Anti-Trump Thugs To STOP Protesting',\n",
       " 'SICK OF HOLLYWOOD LIBERALS and PERVERTS? Here’s Your Chance To Support Hollywood CONSERVATIVES In NEW Movie “Let There Be Light” That President Trump Just Tweeted About [VIDEO]',\n",
       " 'U.S. House Republican McCarthy wants to fix Iran nuclear deal',\n",
       " ' WATCH: This Irish Senator BLASTS His Government For Playing Nice With Fascist Trump',\n",
       " 'Suu Kyi silence on Myanmar ethnic cleansing charge draws cool response',\n",
       " 'Iraq says captures positions south of Kirkuk from Kurdish forces',\n",
       " 'EU agreed no sum needed to move talks forward: British Brexit minister',\n",
       " 'Turnout high as Iraqi Kurds defy threats to hold independence vote',\n",
       " 'Classic! Kid Rock Hits Back At Fake News And Lefty Watchdog Group: ‘Go F*ck Yourselves’',\n",
       " ' Superdelegate Tammy Baldwin: ‘I’m Still A Human’ (VIDEO)',\n",
       " 'Boiler Room #63 – Us and THEM!',\n",
       " 'In meeting, Trump to push a reluctant Xi to rein in North Korea',\n",
       " \"Republican Ted Cruz says Senate should not vote on President Obama's Supreme Court nominee\",\n",
       " 'Pastor freed from prison in Iran to return to U.S. on Thursday: wife',\n",
       " 'Suspected U.S. drone strike targets militants in Pakistan, regional official says',\n",
       " \"France cautious over U.S. 'evidence' on Iran weaponry in Yemen\",\n",
       " 'JUST IN: “Pit Bull” Attorney For Special Counsel Robert Mueller Attended Hillary’s Election Night Party',\n",
       " \"UK finance minister's future questioned by PM May's allies as budget nears\",\n",
       " 'Trump to sign executive order Tuesday on infrastructure projects',\n",
       " 'Late summer rains, private food supplies limit impact of North Korea drought',\n",
       " \"Huge blast in China's Ningbo city kills at least two, cause unknown\",\n",
       " 'Ukraine to ramp up health spending after anti-corruption push',\n",
       " ' BREAKING: Comey Was Troubled By Evidence Of ‘Collusion With Russia’ When Trump Fired Him',\n",
       " ' BREAKING: Benghazi-Obsessed GOP Congressman Jason Chaffetz Too Scared To Run For Re-election (DETAILS)',\n",
       " 'Senate intelligence panel requests Trump campaign documents: Washington Post',\n",
       " 'TOP DETECTIVES GIVE REASONS They Are Shocked No Autopsy Will Be Performed On Justice Scalia: “I took a look at the report and I almost fell out of my chair”',\n",
       " 'BREAKING: SCREEN SHOTS OF WEBSITE SHOW BULK DISCOUNTS ON ABORTED BABY PARTS FROM PLANNED PARENTHOOD PARTNER',\n",
       " 'Cuba and U.S. officials to meet next week to deepen detente',\n",
       " ' Federal Judge Tells Anti-Vaxxers To Go F*ck Themselves, Upholds Strict California Vaccination Law',\n",
       " 'Two years after the Paris attacks, France ends state of emergency',\n",
       " 'Exclusive: Chile expects to soon clinch Argentina energy swap deal',\n",
       " ' As Poverty Soars In Michigan, Governor And Wife Eat Cake',\n",
       " \"McDonald's deletes Trump tweet, says Twitter account compromised\",\n",
       " 'As Trump riles China, Taiwan tallies defense costs',\n",
       " 'Episode #174 – SUNDAY WIRE: ‘Fake News’ Week In Review',\n",
       " ' Muslim Who Told FBI About Orlando Shooter Has Powerful Message For Trump',\n",
       " 'KIMBERLY GUILFOYLE: Serious Legal Issues Surround Rachel Maddow Report On Trump’s 2005 Tax Return [Video]',\n",
       " 'Republicans retreat from plan to curb some press camera access in U.S. Capitol',\n",
       " 'BOOM! MARCO RUBIO Has Best Line Of The Day At Comey Hearings [VIDEO]',\n",
       " 'WOW! BLACK DALLAS Police Sergeant Sues Obama, Hillary, George Soros, Sharpton, Black Lives Matter And More For INCITING RACE WAR',\n",
       " ' Reeking Of Desperation, Trump Sends Out ‘Poll’ Asking His Followers To Prove They Love Him',\n",
       " 'Boiler Room #99 – Almost to 100!',\n",
       " 'TUCKER CARLSON UNLOADS On Dem Strategist Who Posted #HuntRepublicanCongressmen Day After Republicans Shot By Bernie Sanders Supporter: “You’re an unbalanced person” [VIDEO]',\n",
       " 'Ukrainian MP offers more details on alleged payments to Trump campaign chief',\n",
       " '[VIDEO] #BlackLivesMatter Terrorists Storm Dartmouth Library, Threaten Students: ‘F*ck You, You Filthy White F*cks!’',\n",
       " 'Mexico plans aid for Puerto Rico after Hurricane Maria',\n",
       " 'MAXINE WATERS: Obama’s Left A “very, very powerful” database in place…”Will have information about EVERYTHING…on EVERY INDIVIDUAL in ways that it’s never been done before” [VIDEO]',\n",
       " 'Kushner met with special counsel Mueller in Russia probe: CNN',\n",
       " 'MUELLER TOP PROSECUTOR Praised DOJ Official for Defying Trump Travel Ban [Video]',\n",
       " 'Former Welsh government minister, suspended in scandal probe, found dead',\n",
       " 'WATCH: ESTABLISHMENT REPUBLICAN Pollster Tries Desperately To Turn Alabama Voters Against Roy Moore…Gets BIG Surprise',\n",
       " 'HILLARY TWEETS MESSAGE In Defense Of DACA…OOPS! 2014 VIDEO Of Hillary EMERGES Saying Illegal Kids Should Be Sent Back',\n",
       " 'Bill letting people bring concealed guns across state lines passes U.S. House',\n",
       " 'U.S. air strike causes casualties as Mattis visits Afghan capital',\n",
       " \"Russia's Lavrov says timing of Putin-Trump meeting not yet discussed: RIA\",\n",
       " 'Trump to attend G20 summit in July in Hamburg',\n",
       " ' The U.S. Constitution Just Ruined Trump’s Day: He’s Now Being Sued For His Twitter Activity (DETAILS)',\n",
       " '(VIDEO) REV AL SHARPTON BOTCHES THE NAME OF A FAMOUS BIBLICAL FIGURE…YES, HE’S A REVEREND..',\n",
       " 'LOU DOBBS and Steve Forbes Rip Obama for Criticizing Trump Overseas: ‘He doesn’t get that he doesn’t matter anymore’ [Video]',\n",
       " 'THE “OBAMA BOUNCE”: UKIP Leader Claims Obama’s Insulting Threat To UK Voters BACKFIRED…Actually Drove Voters To Support “Leave EU” Movement',\n",
       " 'Trump administration sides against unions in high court fees case',\n",
       " 'Former White House aide Gorka joins pro-Trump campaign group',\n",
       " 'Top Democrat, in letter, blasts Valeant CEO for lack of cooperation',\n",
       " 'Presidential candidate Cruz appoints Islam critics as advisers',\n",
       " \"Segregation fans fears of fresh 'cleansing' in Myanmar's Rakhine\",\n",
       " 'HOLY WIDOWS AND ORPHANS! Over 5,000 ISIS Trained Jihadi’s Living Freely In Europe',\n",
       " 'Clintons earned $10.75 million in 2015, paid 34.2 percent federal tax rate',\n",
       " ' Texas Republicans Adopt Astonishingly Extreme Party Platform',\n",
       " 'Kissinger calls Putin-Trump meeting a chance to mend ties',\n",
       " 'Trump’s ‘Wag the Dog’ Moment',\n",
       " 'Catalonia to press ahead with independence if Madrid suspends autonomy',\n",
       " \"Saudi foreign minister says backs Trump's stance on Iran\",\n",
       " 'U.S. to expand refugee program for Central Americans fleeing violence',\n",
       " 'REMEMBER 24/7 Media Coverage Of Bush’s “Hurricane Katrina”? Louisiana Hit With Historic Flooding…Caskets Floating…Obama Declares State Of Emergency…Goes Golfing!',\n",
       " 'VOTING MACHINES STOLEN In Controversial GA Election Where Dems Hope To Embarrass Trump With 30-Yr Old Jon Ossoff Win',\n",
       " 'Many Senate Democrats frustrated with slow U.S. Syrian refugee admissions',\n",
       " ' Anything Can Provoke Trump To Block You On Twitter – Even Ice Cream!',\n",
       " ' That Time Trump Mocked Marco Rubio For Drinking Water Just Came Back To Haunt Him',\n",
       " ' Trump’s LOST HIS DAMN MIND Making RIDICULOUS Demand Of Pelosi; Her Response Is Perfect (TWEETS)',\n",
       " 'NEWSFLASH FOR OUR IMPERIAL PRESIDENT: STATES CAN REFUSE IRAN DEAL [Video]',\n",
       " '15 YR OLDS IN THIS STATE CAN NOW GET STATE FUNDED SEX-CHANGE OPERATION WITHOUT PARENTAL CONSENT…But Need Consent To Use Tanning Bed',\n",
       " \"New York attorney general looking at Eric Trump charity's payouts\",\n",
       " 'Three arrested after hanging anti-Trump banner near Cleveland convention',\n",
       " 'BREAKING: SENATE’S KEY IMMIGRATION EXPERT GIVES ENDORSEMENT OF TRUMP’S IMMIGRATION PLAN',\n",
       " 'THIS IS OKAY? Loudmouth Entertainer Who Got Milo Kicked Off Twitter: “If I see another 45-year-old white woman from Williamsburg saying ‘black lives matter,’ I’m going to punch you in the mouth”',\n",
       " ' WATCH: CNN Panelist HUMILIATES ‘Snowflake’ Trump For Cowardly Backing Out Of Correspondent’s Dinner',\n",
       " ' Bad News, GOP: Justice Sandra Day O’Connor Backs Obama In Supreme Court Fight',\n",
       " 'A MUST READ! Here’s Why Voting For DONALD TRUMP Is A Morally Good Choice',\n",
       " 'OBAMA GIVES FINAL THOUGHTS On Trump Presidency: He’s ‘a Comma’ in ‘the Story of Building America’',\n",
       " '“DRIVE THEM OUT OF YOUR PLACES OF WORSHIP!” London Imams Take President Trump’s Advice, REFUSE To Perform Funeral Rights For Islamic Terrorists [VIDEO]',\n",
       " ' WATCH: John McCain Becomes A Confused Babbling Mess While Questioning ‘President’ Comey (VIDEO)',\n",
       " \"Barnier says 'still working' on Brexit terms with Britain\",\n",
       " ' Here’s Absolute PROOF Donald Trump Thinks The Government Is A Reality Show; We Should All Be Terrified',\n",
       " 'U.S. lawmakers ask Wells about taking back bonuses linked to scam case',\n",
       " \"Trump's U.N. nominee to blast world body over Israel: testimony\",\n",
       " \"Cambodian PM says sanctions wouldn't hurt him\",\n",
       " 'BRAVO! POPULIST REPUBLICANS Target Out Of Control LEGAL Immigration Like The Ridiculous “Diversity Lottery”',\n",
       " 'U.S. appeals court revives claims in $1.7 billion Iran terrorism lawsuit',\n",
       " 'Democratic Senator Murray thinks bipartisan Obamacare deal still possible',\n",
       " 'NO KIDDING! HERE’S WHY HILLARY SUPPORTERS Will Get Us ALL KILLED [VIDEO]',\n",
       " ' WATCH: Sean Hannity Loses His Sh*t Because Jon Stewart Humiliated Him On Colbert',\n",
       " 'VIDEO: US Elections: More Voter Fraud Emerges',\n",
       " 'U.S. lawmakers seek more money, authority for derivatives regulator',\n",
       " ' Red Cross Sorry For Blatantly Racist Pool Safety Poster',\n",
       " 'WATCH: THESE ARE THE LEFTISTS Mitt Romney, John McCain, Marco Rubio and Our Liberal Media Attacked President Trump For Not Defending',\n",
       " 'BREAKING: LEFTIST DEMOCRAT MAYOR ORDERED BALTIMORE POLICE TO STAND DOWN [Video]',\n",
       " 'The Demise of Progressive Democrats: ‘Resist and Submit, Retreat and Surrender’',\n",
       " 'LAURA INGRAHAM’S Brilliant Idea On How To Shake Up Liberal College Campuses [Video]',\n",
       " 'THIS Is How Far The Left Will Go To Protect Hillary Clinton…Sick!',\n",
       " 'Obama, EU leaders agree to stick together, stay tough on Russia',\n",
       " 'As Mattis peers into North Korea, he gets warning on artillery',\n",
       " ' Protesters BEAUTIFULLY Troll Jason Chaffetz After He Accuses Them Of Being Paid',\n",
       " 'Trump ends nine-day overseas trip with a flourish as trouble looms at home',\n",
       " ' Former George W. Bush Speechwriter Epically Blasts Republicans For Supporting Trump',\n",
       " 'White House weighs abandoning estate tax repeal in Republican tax push',\n",
       " \"Iraqi Shi'ite paramilitary chief seeks to put troops under national army\",\n",
       " 'EU too? Lawmakers denounce harassment in Brussels',\n",
       " 'STOP RAPING OUR WOMEN AND CHILDREN…OR ELSE: Finland’s “Soldiers Of Odin” Are Defending Citizens Against Muslim Migrant Rapists',\n",
       " 'Factbox: The race to the U.S. presidential nominations: How delegates are selected ',\n",
       " ' WATCH: Karma Strikes Disgusting Voyeur At Target When Woman Confronts And Chases Him',\n",
       " 'U.S. will change course on climate policy, says former EPA transition head',\n",
       " 'Top Democrat on House panel says he has seen controversial intel reports',\n",
       " 'WELL, DUH! Transgender Wins International Women’s Weightlifting Title',\n",
       " 'Driver charged with attempted murder over Australian vehicle attack',\n",
       " 'THE WOMAN WHO Moved Freedom Loving Americans To Tears With Her Passionate IRS Testimony Is Now Asking For Our Help',\n",
       " 'Father of Orlando Shooter is Long-time CIA Asset',\n",
       " \"Inspection battle threatens Egypt's wheat supply\",\n",
       " ' Hillary Clinton And Bill Blasio’s Racist ‘Joke’ May Have Just Lost Her The Black Vote (VIDEO)',\n",
       " 'Vocal critic of Tanzanian president seriously hurt in gun attack',\n",
       " ' Trump Whines About Unfair Media During Coast Guard Commencement Address (VIDEO)',\n",
       " 'JUDGE NAPOLITANO On Reckless Hillary’s Emails: She Could Be Responsible For Deaths Of CIA And FBI Agents [VIDEO]',\n",
       " 'First lady Melania plays tourist as Trump departs Beijing',\n",
       " 'Hurricane Irma threatens luxury Trump properties',\n",
       " \"Uncorked: senior Republican senator's ire at Trump bubbles over\",\n",
       " 'Activists urge Apple to drop apps that play up Philippine drugs war',\n",
       " 'PRESIDENT-ELECT TRUMP’S INAUGURAL COMMITTEE Announces Schedule Of Events',\n",
       " 'Israeli ambassador backs Trump pledge to move U.S. embassy to Jerusalem',\n",
       " 'Turkey seeks arrest of ex-CIA officer over suspected coup links: Hurriyet',\n",
       " 'Trump to nominate Nathan Sales as counterterrorism coordinator: White House',\n",
       " 'PRESIDENT TRUMP’S Powerful First Commencement Speech: “In America We Don’t Worship Government, We Worship God” [VIDEO]',\n",
       " \"Hungary's Jobbik supports EU deepening with voters' blessing\",\n",
       " 'When #BlackLivesMatter, Golf Take Priority Over Our Vets: 76 YR OLD VET Kills Himself In VA Parking Lot After ER Allegedly Denied Appointment With Doctor For Mental Problems',\n",
       " 'Repeat Deceit: How US Tries to Link Iran to Al Qaeda',\n",
       " \"South Korea's Moon promises thorough probe as anger mounts at deadly sauna fire\",\n",
       " 'BRUTALLY HONEST BILLBOARD Turns Heads In State With Exploding Muslim Immigrant Population',\n",
       " \"Rohingya refugees 'drained' by trauma, says U.N. refugee chief\",\n",
       " 'JUSTICE? Yahoo Settles E-mail Privacy Class-action: $4M for Lawyers, $0 for Users',\n",
       " 'Russian military working on deal to use Egyptian air bases: document',\n",
       " 'WHOA! IS GEORGE SOROS Secretly Funding Jill Stein’s [Hillary’s] Recount Effort To Steal The Presidency From Trump?',\n",
       " 'Police arrest 400 at U.S. Capitol in protest of money in politics',\n",
       " \"Peru's president pardons ex-leader Fujimori, citing his health\",\n",
       " 'Trump meets former Vice President Gore in New York: Gore',\n",
       " ' Trump’s Department Of Justice Just Made A Move That’s Enraging Democrats AND Republicans',\n",
       " 'In Texas legislature, tempers flare over immigration crackdown',\n",
       " 'Clinton opposes recommendation to drop limits on futures contracts',\n",
       " 'LIVE FEED: PRESIDENT TRUMP Speaks At CPAC – 10:00 a.m. EST',\n",
       " 'Trump escalates attacks on judge in Trump University suit: WSJ',\n",
       " ' Donald Trump Just Got Humiliated By The DICTIONARY Again, And It’s F*cking EPIC (TWEETS)',\n",
       " '“ALLAHU AKBAR” MUSLIM EXTREMISTS Forced Catholic Priest At Knifepoint To Kneel While They Performed “Arabic Sermon”….Filmed Beheading Of Priest…Two Terrorists Shot DEAD…19 Yr Old Was KNOWN TERRORIST Allowed To Live With Parents, Roamed Freely During Day [VIDEO]',\n",
       " ' Obama Uses Ted Cruz’s Own Father To Prove Cruz Is A Morally Reprehensible Bigot (VIDEO)',\n",
       " 'TWO WEEKS BEFORE 1980 ELECTION Polls Showed Carter-47 Vs Reagan-39…Reagan Won In LANDSLIDE…Why Trump Will Likely Do The Same',\n",
       " \"Mexico says paying for Trump wall 'not part of our vision'\",\n",
       " 'At least two dead in bombing on Mogadishu outskirts',\n",
       " 'TUCKER CARLSON Embarrasses Colby Professor Who Says Colleges SHOULD Be Able To Shut Down Free Speech [VIDEO]',\n",
       " 'TRUMP SOUNDED LIKE A CHOIR BOY Next To Hillary’s Foul-Mouthed, Abusive Rants: “Where’s the miserable c*ck sucker?”…and MORE',\n",
       " 'Saudi king says kingdom has made progress in tackling terrorism',\n",
       " 'LOL! UN Refugee Spokes-Celebrity ANGELINA JOLIE Admonishes U.S. For “Undermining International Law” By Resisting Flow Of Muslim Refugees',\n",
       " 'New rule requires U.S. banks to allow consumer class actions',\n",
       " '“NEVER-TRUMPER” and Weekly Standard Editor Sends Vile Tweet Mocking VP Pence…Suggests Pence Has Replaced God With President Trump',\n",
       " 'BREAKING EMAIL LEAK: “Bernie needs to be ground to a pulp…Crush him as hard as you can”',\n",
       " 'GWU STUDENTS ASK: Is There A Bias Against Conservative Women On Campus? [Video]',\n",
       " 'Buffett rebukes Trump, questions his business skill',\n",
       " ' Jared Kushner’s Excuse For The Russian Meeting Would Get Most People Fired',\n",
       " 'Australian PM says government aims to legalize same-sex marriage by year-end',\n",
       " 'Forever Bitter Michelle Obama Tries To Shame Women Who Voted For Trump [Video]',\n",
       " ' Tomi Lahren Blasts ObamaCare, Admits She’s Still On Parents’ Health Insurance [VIDEO]',\n",
       " 'Irish border should see no queues post-Brexit: British minister',\n",
       " 'Democrats in U.S. Senate try to slow Republican deregulation',\n",
       " 'YEAR IN REVIEW: 2017 Top Ten Conspiracies',\n",
       " 'Trump meets Senator Ernst amid vice presidential speculation',\n",
       " 'Trump aide Greenblatt returning to Israel for peace talks: official',\n",
       " 'German conservative suggests job move for veteran finance min Schaeuble',\n",
       " ' Electors Want Briefing On Russian Interference Before Electoral College Vote This Month',\n",
       " 'Shoot-out between Colombia rebels kills 13, government says',\n",
       " 'Kremlin warns of mutual damage if Ukraine cuts diplomatic ties',\n",
       " \"Clinton wins D.C. primary, has 'positive' meeting with Sanders\",\n",
       " \"Russia's Putin says to decide soon if he will run for re-election\",\n",
       " 'OBAMA THREATENS TO SURFACE FROM LEFTIST BUNKER To Speak Out Against Trump’s Plan To End DACA',\n",
       " 'Saudi Arabia intercepts Yemeni missile, second in a month',\n",
       " \"Brazil's Temer to shuffle cabinet in March, main ally out: source\",\n",
       " 'BOILER ROOM – EP #53 – Say Bye Bye to Culture',\n",
       " 'YES, Obama CAN Appoint A Supreme Court Justice Before He Leaves…But Will He?',\n",
       " 'Republican U.S. Senator Cochran postpones return to Washington',\n",
       " 'SENATE PASSES USA FREEDOM ACT',\n",
       " 'Congress Is About To Deal A KNOCK-OUT PUNCH To Obama’s ‘Back Door’ Gun Grab…Gun Owners Are Cheering!',\n",
       " \"Turkey threatens legal action after lawmaker calls Erdogan 'fascist dictator'\",\n",
       " \"Trump's cut to flood map program could trigger insurance rate hikes: group\",\n",
       " 'Obama does victory lap for car industry but it is different from what he hoped',\n",
       " ' Former Jail Guard Admits To Falsifying Documents In Sandra Bland Death (VIDEO)',\n",
       " ' Viral Video Of ‘Liberal Redneck’ Hilariously DESTROYING Transgender Bathroom Laws Is MUST SEE',\n",
       " 'IS THIS THE TERRORIST WHO INSPIRED DALLAS COP KILLER? “We must kill all white police officers across the country…We’re asking that all black police officers take a leave of absence”',\n",
       " 'Maine official approves ballot initiative on marijuana legalization',\n",
       " ' Trump Sabotages His Own Call For Unity By Calling Democratic Leader A ‘Clown’',\n",
       " ' Trump Has NEVER Looked So Incompetent; His China Adviser Was Literally Found On Amazon (DETAILS)',\n",
       " 'JOIN NATIONWIDE PLANNED PARENTHOOD PROTEST SATURDAY, AUG 22: Details For Protests In Your State Listed Here',\n",
       " '“G#d d*mn America”: DISTURBING PHOTOS Illustrate Obama’s “Diplomacy” Failure In Iran',\n",
       " \"Spain PM calls on Catalan leader to drop independence plans to avoid 'greater evils'\",\n",
       " 'Pope begins Myanmar trip in shadow of Rohingya crisis',\n",
       " ' Controversial Former Fox CEO Roger Ailes Dead At 77',\n",
       " \"Russia says Trump's 'aggressive' stance on Iran doomed to fail\",\n",
       " 'White House says denuclearization remains priority for Korean Peninsula',\n",
       " 'LIBERALS ARE GOING To Be Furious Over What This Texan’s T-Shirt Said During Live TV Interview',\n",
       " 'EU negotiator says British withdrawal deal must be ready by Oct. 2018',\n",
       " \"Trump's offer to Russia: an end to sanctions for nuclear arms cut - London Times\",\n",
       " 'After Mugabe, African leaders ponder own fate',\n",
       " 'MAN MAKES VIRAL VIDEO: Demonstrates How Obama Made Himself Cry During Gun Control Speech',\n",
       " 'ILLEGAL INVASION CONTINUES: NYC RAMPING UP TO GIVE 1 MILLION ILLEGALS VOTING RIGHTS',\n",
       " 'MUSLIM MIGRANT WOMAN CAUGHT SPITTING On Angry Germans Swarming Around Bus At Asylum Center [VIDEO]',\n",
       " 'Family of Lebanon PM Hariri visit French president in Paris',\n",
       " 'Trump pledges fealty to NRA gun lobby',\n",
       " 'Kirkuk declares curfew after Iraqi Kurdish independence referendum',\n",
       " 'Toxic algae and ice cream party keep top Republicans from Cleveland',\n",
       " \"Trump says current Fed chair Yellen is 'excellent'\",\n",
       " 'U.S. House panel cancels Thursday session on Puerto Rico debt bill',\n",
       " \"Death toll in attack on mosque in Egypt's north Sinai rises to 184: state television\",\n",
       " ' WATCH: Obama Celebrates Jobs Win, Drops Truth Bomb That Will Make GOP Squeal (IMAGE)',\n",
       " 'RECKLESS: Democratic Party Creating a ‘Russian Scarecrow’ in US Media & Politics',\n",
       " 'Indonesian parliament speaker quits amid graft investigation',\n",
       " \"Saudi's Kingdom Holding reports swing to quarterly profit from big loss\",\n",
       " 'To applause and boos, Kerry urges Congress to ratify Pacific trade pact',\n",
       " ' Top Bush Advisor Jumps From Sinking GOP Ship',\n",
       " 'Obama says disagrees with discrimination based on religion: spokesman',\n",
       " 'Four Republican senators say they cannot support healthcare bill',\n",
       " 'Justice Dept. reviewing Supreme Court immigration decision: Lynch',\n",
       " 'BREAKING: ELECTRONICS BANNED on Some U.S. Flights From Middle East…List of 9 Airlines and Airports Affected',\n",
       " \"France's Macron urges continued EU ties with Turkey\",\n",
       " 'Myanmar military appoints general to probe mass grave in Rakhine state',\n",
       " 'Official: No formal Secret Service discussions with Trump camp on remark',\n",
       " 'BREAKING: Man Rushes To Paris Police Station Doors With Knife Screaming “Allahu Akbar”…Was He Another “Muslim Clock Boy?”',\n",
       " ' George Takei NAILS Republican Hypocrisy On Trump’s Conflicts Of Interest With A Single Fact',\n",
       " 'Tokyo Governor Koike to challenge Japanese PM Abe with new party',\n",
       " 'Trump would favor Senate rule change if Supreme Court choice blocked',\n",
       " 'U.S. Senate Republicans want to speed Trump nominee approvals',\n",
       " \"Many 'lost' voters say they have found their candidate in Trump\",\n",
       " 'GERMAN VOLUNTEERS HOLD WELCOME RALLY: Applaud As Muslim Migrants Sing Jihadist Songs [Video]',\n",
       " 'WHILE DEMOCRATS Were Focused On Russia and P*ssy Hats, President Trump Quietly Accomplished Something So Awesome, It Will Leave Conservatives Cheering',\n",
       " 'Hacked emails show Clinton aides surprised at 2015 email revelations',\n",
       " 'China paves way for prosecuting disgraced senior politician',\n",
       " \"No role for Assad in Syria's future: Tillerson\",\n",
       " ' All The Proof You Need To Realize Hillary Is Not About To Let Wall Street Get Away With Anything',\n",
       " 'United States stops issuing some visas in Cambodia',\n",
       " 'DEMOCRAT LAWMAKER WILL BE PUNISHED For Putting Jobs Before “Climate Change”: “They are after me”',\n",
       " 'At least five killed as police fire at protest in Ethiopia',\n",
       " 'HEY VOTERS…IT’S NOT OVER! Pay-To-Play Hillary And Her “Non-Profit” Foundation Are STILL Under FBI Investigation',\n",
       " ' This One Sentence BEAUTIFULLY Nails Down Exactly What Kind Of ‘Leader’ Trump Will Be',\n",
       " 'NEW WH COMMUNICATIONS DIRECTOR: I’ll Bring CNN a Box of Kleenex When Trump Wins in 2020 [VIDEO]',\n",
       " 'Facing far-right gains, Merkel, Schulz urge undecided Germans to vote',\n",
       " 'Islamic State claims responsibility for rocket, mortar fire on Kabul airport',\n",
       " 'New York lawmakers vote to legalize fantasy sports games',\n",
       " 'South Africa court says cannot compel Zuma to set up influence-peddling inquiry',\n",
       " \"China's Xi tells Trump that North Korea nuclear issue must be solved via talks\",\n",
       " 'Expelled refugee student kills seven in Kenyan school',\n",
       " 'PNG threatens to forcibly remove asylum seekers from abandoned Australian detention center',\n",
       " 'China punishes over 8,000 people for misuse of government funds: Xinhua',\n",
       " 'Rohingya refugees in Pakistan fear for relatives in Myanmar',\n",
       " \"Philippines' Duterte says he's been 'demonized' over drugs war\",\n",
       " 'Mexican leader says respects U.S. presidential candidates',\n",
       " 'JUST IN: POTUS Speaks Out On Alabama’s Roy Moore…The Left Goes Bonkers [Video]',\n",
       " ' Kremlin Threatens Trump: Stop Leaking Like A Colander Or We’ll Release Info',\n",
       " '“SHE’S NO PUSHOVER”: How Sarah Huckabee Sanders Made It To The White House Podium',\n",
       " 'EXTORTION? HOW IRAN Used Nuke Deal To Force Obama To Retreat From Embarrassing “Red Line” Threat To Syria',\n",
       " ' Trump’s Leaks To Russia May Well Have Put Individual Lives In Serious Danger',\n",
       " ' Fox News Military Expert Hilariously Destroys Trump’s and Cruz’s Strategies Against ISIS',\n",
       " 'BREAKING: FBI ARREST STOPS Horrific San Francisco “MASS CASUALTY” Christmas Day Attack By MUSLIM, Truck Driver and Former Marine Sharpshooter',\n",
       " 'STEP ASIDE FOX NEWS, IT’S NOT ABOUT YOU!',\n",
       " 'BIG MOUTH ROSIE O’DONNELL Could Be Heading To Prison After Taking Her Hate For President Trump Too Far',\n",
       " 'Republican Cruz criticizes Trump for comments on NATO',\n",
       " 'America’s Primal Scream: David Icke Explains Reason for Trump’s Election Result',\n",
       " 'A PICTURE IS WORTH A THOUSAND WORDS: A Lone Socialist Takes This Ironic Message To Trump',\n",
       " \"Obama says he would have outrun Trump, but Trump says, 'No way!'\",\n",
       " 'Same-day voter registration temporarily reinstated in Illinois',\n",
       " 'BILL O’REILLY ANNOUNCES 2 Week Vacation…Will Murdoch’s Liberal Son Who Pushed To Fire Roger Ailes Make His Vacation Permanent? [VIDEO]',\n",
       " 'Thai tour guide arrested for inappropriate behavior at Buddhist temple',\n",
       " 'CA DEMOCRATS HAVE SOLUTION TO MASSIVE Health Care Costs…Assisted Suicide',\n",
       " ' Hillary Unleashes BRUTAL Rant On Trump Supporter Calling Her Husband A Rapist (VIDEO)',\n",
       " ' Taxpayers Billed $800,000 A Year For Prayers In Congress',\n",
       " ' Watch Trump Flat-Out Admit Trumpcare Will Ruin The Lives Of His Own Supporters (VIDEO)',\n",
       " 'NSA risks talent exodus amid morale slump, Trump fears',\n",
       " ' PROOF: Republicans Are Blocking Black Voters, This Court Case Is Exposing Them',\n",
       " 'Trump extends program allowing some veterans to use local doctors, hospitals',\n",
       " ' WATCH: Barbra Streisand BURNS Donald Trump On Stage During Concert',\n",
       " ' Joe Biden Just Said What Every (Sane) Woman Is Thinking About Donald Trump',\n",
       " 'Italy PM Gentiloni to fly to U.S. to meet Trump on April 20 - statement',\n",
       " 'U.S. communications agency to unveil reform to business data services market',\n",
       " ' Even Fox News Is Slamming Trump’s ‘Dangerous’ Rigged Election Talk',\n",
       " ' Elizabeth Warren Is Going OFF On Trump’s Pick Of Mike Pence, And It’s Magical (TWEETS)',\n",
       " \"U.S. consumer watchdog's prepaid-card rule survives Congress challenge\",\n",
       " ...]"
      ]
     },
     "execution_count": 20,
     "metadata": {},
     "output_type": "execute_result"
    }
   ],
   "source": [
    "titles"
   ]
  },
  {
   "cell_type": "code",
   "execution_count": 21,
   "id": "c3f94806",
   "metadata": {},
   "outputs": [
    {
     "data": {
      "text/plain": [
       "'Two more women accuse Senate candidate Moore of sexual misconduct'"
      ]
     },
     "execution_count": 21,
     "metadata": {},
     "output_type": "execute_result"
    }
   ],
   "source": [
    "titles[10]"
   ]
  },
  {
   "cell_type": "code",
   "execution_count": null,
   "id": "64eca920",
   "metadata": {},
   "outputs": [],
   "source": []
  },
  {
   "cell_type": "code",
   "execution_count": 22,
   "id": "ec1d09cb",
   "metadata": {},
   "outputs": [],
   "source": [
    "from sklearn.model_selection import train_test_split"
   ]
  },
  {
   "cell_type": "code",
   "execution_count": 23,
   "id": "ae64e7e9",
   "metadata": {},
   "outputs": [],
   "source": [
    "titles_list=[]\n",
    "texts_list=[]\n",
    "target_list=[]"
   ]
  },
  {
   "cell_type": "code",
   "execution_count": 24,
   "id": "48e1ea1f",
   "metadata": {},
   "outputs": [],
   "source": [
    "dataset=true_dataset.append(fake_dataset)\n",
    "dataset=dataset.reset_index(drop=True)\n",
    "for i in dataset['title']:\n",
    "    titles_list.append(i)\n",
    "for i in dataset['text']:\n",
    "    texts_list.append(i)\n",
    "for i in dataset['label']:\n",
    "    target_list.append(i)"
   ]
  },
  {
   "cell_type": "code",
   "execution_count": 33,
   "id": "09f019d4",
   "metadata": {},
   "outputs": [],
   "source": []
  },
  {
   "cell_type": "code",
   "execution_count": 34,
   "id": "6a31380f",
   "metadata": {},
   "outputs": [],
   "source": [
    "training_s,testing_s,training_l,testing_l=train_test_split(titles_list,target_list,test_size=0.4,random_state=40,stratify=target_list)"
   ]
  },
  {
   "cell_type": "code",
   "execution_count": 35,
   "id": "bc385f3e",
   "metadata": {},
   "outputs": [],
   "source": []
  },
  {
   "cell_type": "code",
   "execution_count": 36,
   "id": "8ac06263",
   "metadata": {},
   "outputs": [],
   "source": [
    "training_s=np.array(training_s)\n",
    "testing_l=np.array(testing_l)\n",
    "testing_s=np.array(testing_s)\n",
    "training_l=np.array(training_l)"
   ]
  },
  {
   "cell_type": "code",
   "execution_count": 37,
   "id": "2a7048d3",
   "metadata": {},
   "outputs": [],
   "source": [
    "tokenizer_l=Tokenizer(num_words=vocab_size,oov_token=oov_tok)\n",
    "tokenizer_l.fit_on_texts(training_s)"
   ]
  },
  {
   "cell_type": "code",
   "execution_count": 38,
   "id": "72399c7b",
   "metadata": {},
   "outputs": [],
   "source": []
  },
  {
   "cell_type": "code",
   "execution_count": null,
   "id": "9fdb349c",
   "metadata": {},
   "outputs": [],
   "source": []
  },
  {
   "cell_type": "code",
   "execution_count": null,
   "id": "6b24ef0b",
   "metadata": {},
   "outputs": [],
   "source": []
  },
  {
   "cell_type": "code",
   "execution_count": null,
   "id": "aebe80c4",
   "metadata": {},
   "outputs": [],
   "source": []
  },
  {
   "cell_type": "code",
   "execution_count": 82,
   "id": "e3eaf6ca",
   "metadata": {},
   "outputs": [],
   "source": [
    "training_sequences_l=tokenizer_l.texts_to_sequences(training_s)\n",
    "training_padded_l=pad_sequences(training_sequences_l,maxlen=max_length,padding=padding_type,truncating=trunc_type)"
   ]
  },
  {
   "cell_type": "code",
   "execution_count": 84,
   "id": "6459a3ae",
   "metadata": {},
   "outputs": [],
   "source": [
    "testing_sequences_l=tokenizer_l.texts_to_sequences(testing_s)\n",
    "testing_padded_l=pad_sequences(testing_sequences_l,maxlen=max_length,padding=padding_type,truncating=trunc_type)"
   ]
  },
  {
   "cell_type": "code",
   "execution_count": 85,
   "id": "5c865552",
   "metadata": {},
   "outputs": [],
   "source": [
    "temp_model=tf.keras.Sequential([\n",
    "    tf.keras.layers.Embedding(vocab_size,embedding_dim,input_length=max_length),\n",
    "    tf.keras.layers.GlobalAveragePooling1D(),\n",
    "    tf.keras.layers.Dense(24,activation='relu'),\n",
    "    tf.keras.layers.Dense(1,activation='sigmoid')\n",
    "])\n",
    "\n",
    "temp_model.compile(loss='binary_crossentropy',optimizer=\"adam\",metrics=['accuracy'])"
   ]
  },
  {
   "cell_type": "code",
   "execution_count": 86,
   "id": "e89fd227",
   "metadata": {},
   "outputs": [
    {
     "name": "stdout",
     "output_type": "stream",
     "text": [
      "Model: \"sequential\"\n",
      "_________________________________________________________________\n",
      "Layer (type)                 Output Shape              Param #   \n",
      "=================================================================\n",
      "embedding (Embedding)        (None, 100, 16)           160000    \n",
      "_________________________________________________________________\n",
      "global_average_pooling1d (Gl (None, 16)                0         \n",
      "_________________________________________________________________\n",
      "dense (Dense)                (None, 24)                408       \n",
      "_________________________________________________________________\n",
      "dense_1 (Dense)              (None, 1)                 25        \n",
      "=================================================================\n",
      "Total params: 160,433\n",
      "Trainable params: 160,433\n",
      "Non-trainable params: 0\n",
      "_________________________________________________________________\n"
     ]
    }
   ],
   "source": [
    "temp_model.summary()"
   ]
  },
  {
   "cell_type": "code",
   "execution_count": 89,
   "id": "6e70aa5a",
   "metadata": {},
   "outputs": [
    {
     "name": "stdout",
     "output_type": "stream",
     "text": [
      "Epoch 1/30\n",
      "842/842 - 2s - loss: 0.4074 - accuracy: 0.8401 - val_loss: 0.1617 - val_accuracy: 0.9478\n",
      "Epoch 2/30\n",
      "842/842 - 2s - loss: 0.1175 - accuracy: 0.9601 - val_loss: 0.1081 - val_accuracy: 0.9601\n",
      "Epoch 3/30\n",
      "842/842 - 2s - loss: 0.0780 - accuracy: 0.9726 - val_loss: 0.0938 - val_accuracy: 0.9654\n",
      "Epoch 4/30\n",
      "842/842 - 2s - loss: 0.0587 - accuracy: 0.9799 - val_loss: 0.0862 - val_accuracy: 0.9681\n",
      "Epoch 5/30\n",
      "842/842 - 2s - loss: 0.0472 - accuracy: 0.9842 - val_loss: 0.0846 - val_accuracy: 0.9694\n",
      "Epoch 6/30\n",
      "842/842 - 2s - loss: 0.0379 - accuracy: 0.9880 - val_loss: 0.0834 - val_accuracy: 0.9693\n",
      "Epoch 7/30\n",
      "842/842 - 2s - loss: 0.0305 - accuracy: 0.9906 - val_loss: 0.0920 - val_accuracy: 0.9668\n",
      "Epoch 8/30\n",
      "842/842 - 2s - loss: 0.0249 - accuracy: 0.9921 - val_loss: 0.0892 - val_accuracy: 0.9684\n",
      "Epoch 9/30\n",
      "842/842 - 2s - loss: 0.0198 - accuracy: 0.9939 - val_loss: 0.0902 - val_accuracy: 0.9704\n",
      "Epoch 10/30\n",
      "842/842 - 2s - loss: 0.0166 - accuracy: 0.9948 - val_loss: 0.0942 - val_accuracy: 0.9703\n",
      "Epoch 11/30\n",
      "842/842 - 2s - loss: 0.0131 - accuracy: 0.9967 - val_loss: 0.1008 - val_accuracy: 0.9705\n",
      "Epoch 12/30\n",
      "842/842 - 2s - loss: 0.0113 - accuracy: 0.9969 - val_loss: 0.1078 - val_accuracy: 0.9689\n",
      "Epoch 13/30\n",
      "842/842 - 2s - loss: 0.0089 - accuracy: 0.9977 - val_loss: 0.1260 - val_accuracy: 0.9673\n",
      "Epoch 14/30\n",
      "842/842 - 2s - loss: 0.0069 - accuracy: 0.9986 - val_loss: 0.1288 - val_accuracy: 0.9682\n",
      "Epoch 15/30\n",
      "842/842 - 2s - loss: 0.0061 - accuracy: 0.9987 - val_loss: 0.1374 - val_accuracy: 0.9630\n",
      "Epoch 16/30\n",
      "842/842 - 2s - loss: 0.0045 - accuracy: 0.9992 - val_loss: 0.1434 - val_accuracy: 0.9680\n",
      "Epoch 17/30\n",
      "842/842 - 2s - loss: 0.0044 - accuracy: 0.9991 - val_loss: 0.1458 - val_accuracy: 0.9678\n",
      "Epoch 18/30\n",
      "842/842 - 2s - loss: 0.0036 - accuracy: 0.9994 - val_loss: 0.1541 - val_accuracy: 0.9651\n",
      "Epoch 19/30\n",
      "842/842 - 2s - loss: 0.0032 - accuracy: 0.9993 - val_loss: 0.1571 - val_accuracy: 0.9668\n",
      "Epoch 20/30\n",
      "842/842 - 2s - loss: 0.0023 - accuracy: 0.9996 - val_loss: 0.1642 - val_accuracy: 0.9658\n",
      "Epoch 21/30\n",
      "842/842 - 2s - loss: 0.0021 - accuracy: 0.9996 - val_loss: 0.1742 - val_accuracy: 0.9643\n",
      "Epoch 22/30\n",
      "842/842 - 2s - loss: 0.0015 - accuracy: 0.9998 - val_loss: 0.1808 - val_accuracy: 0.9661\n",
      "Epoch 23/30\n",
      "842/842 - 2s - loss: 0.0018 - accuracy: 0.9995 - val_loss: 0.1964 - val_accuracy: 0.9654\n",
      "Epoch 24/30\n",
      "842/842 - 2s - loss: 0.0011 - accuracy: 0.9998 - val_loss: 0.1941 - val_accuracy: 0.9643\n",
      "Epoch 25/30\n",
      "842/842 - 2s - loss: 7.8340e-04 - accuracy: 1.0000 - val_loss: 0.2026 - val_accuracy: 0.9629\n",
      "Epoch 26/30\n",
      "842/842 - 2s - loss: 7.0458e-04 - accuracy: 1.0000 - val_loss: 0.2123 - val_accuracy: 0.9619\n",
      "Epoch 27/30\n",
      "842/842 - 2s - loss: 0.0012 - accuracy: 0.9997 - val_loss: 0.2160 - val_accuracy: 0.9629\n",
      "Epoch 28/30\n",
      "842/842 - 2s - loss: 5.5504e-04 - accuracy: 1.0000 - val_loss: 0.2193 - val_accuracy: 0.9641\n",
      "Epoch 29/30\n",
      "842/842 - 2s - loss: 9.8705e-04 - accuracy: 0.9998 - val_loss: 0.2208 - val_accuracy: 0.9636\n",
      "Epoch 30/30\n",
      "842/842 - 2s - loss: 5.5033e-04 - accuracy: 0.9999 - val_loss: 0.2234 - val_accuracy: 0.9633\n"
     ]
    }
   ],
   "source": [
    "num_epochs = 30\n",
    "history = temp_model.fit(training_padded_l, training_l, epochs=num_epochs, validation_data=(testing_padded_l, testing_l), verbose=2)"
   ]
  },
  {
   "cell_type": "code",
   "execution_count": 90,
   "id": "4e9012b7",
   "metadata": {},
   "outputs": [],
   "source": [
    "pickle.dump(tokenizer_l, open('heading_tokenizer_l.pkl', 'wb'))\n"
   ]
  },
  {
   "cell_type": "code",
   "execution_count": 91,
   "id": "2688679d",
   "metadata": {},
   "outputs": [
    {
     "name": "stdout",
     "output_type": "stream",
     "text": [
      "WARNING:tensorflow:From D:\\Softwares\\Anaconda\\lib\\site-packages\\tensorflow\\python\\training\\tracking\\tracking.py:111: Model.state_updates (from tensorflow.python.keras.engine.training) is deprecated and will be removed in a future version.\n",
      "Instructions for updating:\n",
      "This property should not be used in TensorFlow 2.0, as updates are applied automatically.\n",
      "WARNING:tensorflow:From D:\\Softwares\\Anaconda\\lib\\site-packages\\tensorflow\\python\\training\\tracking\\tracking.py:111: Layer.updates (from tensorflow.python.keras.engine.base_layer) is deprecated and will be removed in a future version.\n",
      "Instructions for updating:\n",
      "This property should not be used in TensorFlow 2.0, as updates are applied automatically.\n",
      "INFO:tensorflow:Assets written to: fakenews_temp\\assets\n"
     ]
    }
   ],
   "source": [
    "temp_model.save(\"fakenews_temp\")"
   ]
  },
  {
   "cell_type": "code",
   "execution_count": null,
   "id": "082d9503",
   "metadata": {},
   "outputs": [],
   "source": []
  },
  {
   "cell_type": "code",
   "execution_count": null,
   "id": "37dc4654",
   "metadata": {},
   "outputs": [],
   "source": []
  },
  {
   "cell_type": "code",
   "execution_count": null,
   "id": "f0f5eb7a",
   "metadata": {},
   "outputs": [],
   "source": []
  },
  {
   "cell_type": "code",
   "execution_count": null,
   "id": "76b8c502",
   "metadata": {},
   "outputs": [],
   "source": [
    "vocab_size = 10000\n",
    "embedding_dim = 16\n",
    "max_length = 100\n",
    "trunc_type='post'\n",
    "padding_type='post'\n",
    "oov_tok = \"<OOV>\"\n",
    "#training_size = int(len(full_dataset)*0.8)"
   ]
  },
  {
   "cell_type": "code",
   "execution_count": 39,
   "id": "cbe104b4",
   "metadata": {},
   "outputs": [],
   "source": [
    "training_t,testing_t,training_tl,testing_tl=train_test_split(texts_list,target_list,test_size=0.4,random_state=40,stratify=target_list)"
   ]
  },
  {
   "cell_type": "code",
   "execution_count": 40,
   "id": "11f9d8e9",
   "metadata": {},
   "outputs": [],
   "source": [
    "training_t=np.array(training_t)\n",
    "testing_tl=np.array(testing_tl)\n",
    "testing_t=np.array(testing_t)\n",
    "training_tl=np.array(training_tl)"
   ]
  },
  {
   "cell_type": "code",
   "execution_count": 41,
   "id": "13b4ebe5",
   "metadata": {},
   "outputs": [],
   "source": [
    "tokenizer_t=Tokenizer(num_words=vocab_size,oov_token=oov_tok)\n",
    "tokenizer_t.fit_on_texts(training_t)"
   ]
  },
  {
   "cell_type": "code",
   "execution_count": 42,
   "id": "2814b460",
   "metadata": {},
   "outputs": [],
   "source": [
    "training_sequences_t=tokenizer_t.texts_to_sequences(training_t)\n",
    "training_padded_t=pad_sequences(training_sequences_t,maxlen=max_length,padding=padding_type,truncating=trunc_type)"
   ]
  },
  {
   "cell_type": "code",
   "execution_count": 43,
   "id": "de8875c3",
   "metadata": {},
   "outputs": [],
   "source": [
    "testing_sequences_t=tokenizer_t.texts_to_sequences(testing_t)\n",
    "testing_padded_t=pad_sequences(testing_sequences_t,maxlen=max_length,padding=padding_type,truncating=trunc_type)"
   ]
  },
  {
   "cell_type": "code",
   "execution_count": 49,
   "id": "db732906",
   "metadata": {},
   "outputs": [],
   "source": [
    "temp_model_text=tf.keras.Sequential([\n",
    "    tf.keras.layers.Embedding(vocab_size,embedding_dim,input_length=1000),\n",
    "    tf.keras.layers.GlobalAveragePooling1D(),\n",
    "    tf.keras.layers.Dense(24,activation='relu'),\n",
    "    tf.keras.layers.Dense(1,activation='sigmoid')\n",
    "])\n",
    "\n",
    "temp_model_text.compile(loss='binary_crossentropy',optimizer=\"adam\",metrics=['accuracy'])"
   ]
  },
  {
   "cell_type": "code",
   "execution_count": 50,
   "id": "6b6b982f",
   "metadata": {},
   "outputs": [
    {
     "name": "stdout",
     "output_type": "stream",
     "text": [
      "Model: \"sequential_2\"\n",
      "_________________________________________________________________\n",
      "Layer (type)                 Output Shape              Param #   \n",
      "=================================================================\n",
      "embedding_2 (Embedding)      (None, 1000, 16)          160000    \n",
      "_________________________________________________________________\n",
      "global_average_pooling1d_2 ( (None, 16)                0         \n",
      "_________________________________________________________________\n",
      "dense_4 (Dense)              (None, 24)                408       \n",
      "_________________________________________________________________\n",
      "dense_5 (Dense)              (None, 1)                 25        \n",
      "=================================================================\n",
      "Total params: 160,433\n",
      "Trainable params: 160,433\n",
      "Non-trainable params: 0\n",
      "_________________________________________________________________\n"
     ]
    }
   ],
   "source": [
    "temp_model_text.summary()"
   ]
  },
  {
   "cell_type": "code",
   "execution_count": 51,
   "id": "76a291d5",
   "metadata": {},
   "outputs": [
    {
     "name": "stdout",
     "output_type": "stream",
     "text": [
      "Epoch 1/30\n",
      "WARNING:tensorflow:Model was constructed with shape (None, 1000) for input Tensor(\"embedding_2_input:0\", shape=(None, 1000), dtype=float32), but it was called on an input with incompatible shape (None, 100).\n",
      "WARNING:tensorflow:Model was constructed with shape (None, 1000) for input Tensor(\"embedding_2_input:0\", shape=(None, 1000), dtype=float32), but it was called on an input with incompatible shape (None, 100).\n",
      "WARNING:tensorflow:Model was constructed with shape (None, 1000) for input Tensor(\"embedding_2_input:0\", shape=(None, 1000), dtype=float32), but it was called on an input with incompatible shape (None, 100).\n",
      "842/842 - 2s - loss: 0.2092 - accuracy: 0.9617 - val_loss: 0.0427 - val_accuracy: 0.9891\n",
      "Epoch 2/30\n",
      "842/842 - 2s - loss: 0.0230 - accuracy: 0.9947 - val_loss: 0.0207 - val_accuracy: 0.9946\n",
      "Epoch 3/30\n",
      "842/842 - 2s - loss: 0.0075 - accuracy: 0.9987 - val_loss: 0.0148 - val_accuracy: 0.9957\n",
      "Epoch 4/30\n",
      "842/842 - 2s - loss: 0.0026 - accuracy: 0.9997 - val_loss: 0.0129 - val_accuracy: 0.9960\n",
      "Epoch 5/30\n",
      "842/842 - 2s - loss: 0.0012 - accuracy: 0.9999 - val_loss: 0.0126 - val_accuracy: 0.9962\n",
      "Epoch 6/30\n",
      "842/842 - 2s - loss: 6.9141e-04 - accuracy: 1.0000 - val_loss: 0.0125 - val_accuracy: 0.9963\n",
      "Epoch 7/30\n",
      "842/842 - 2s - loss: 5.2345e-04 - accuracy: 1.0000 - val_loss: 0.0127 - val_accuracy: 0.9963\n",
      "Epoch 8/30\n",
      "842/842 - 2s - loss: 4.4040e-04 - accuracy: 1.0000 - val_loss: 0.0129 - val_accuracy: 0.9967\n",
      "Epoch 9/30\n",
      "842/842 - 2s - loss: 4.1810e-04 - accuracy: 1.0000 - val_loss: 0.0131 - val_accuracy: 0.9965\n",
      "Epoch 10/30\n",
      "842/842 - 2s - loss: 3.9654e-04 - accuracy: 1.0000 - val_loss: 0.0131 - val_accuracy: 0.9965\n",
      "Epoch 11/30\n",
      "842/842 - 2s - loss: 3.7700e-04 - accuracy: 1.0000 - val_loss: 0.0132 - val_accuracy: 0.9967\n",
      "Epoch 12/30\n",
      "842/842 - 2s - loss: 3.8649e-04 - accuracy: 1.0000 - val_loss: 0.0132 - val_accuracy: 0.9966\n",
      "Epoch 13/30\n",
      "842/842 - 2s - loss: 3.6700e-04 - accuracy: 1.0000 - val_loss: 0.0135 - val_accuracy: 0.9966\n",
      "Epoch 14/30\n",
      "842/842 - 2s - loss: 3.5766e-04 - accuracy: 1.0000 - val_loss: 0.0137 - val_accuracy: 0.9965\n",
      "Epoch 15/30\n",
      "842/842 - 2s - loss: 3.4215e-04 - accuracy: 1.0000 - val_loss: 0.0137 - val_accuracy: 0.9967\n",
      "Epoch 16/30\n",
      "842/842 - 2s - loss: 3.3269e-04 - accuracy: 1.0000 - val_loss: 0.0146 - val_accuracy: 0.9965\n",
      "Epoch 17/30\n",
      "842/842 - 2s - loss: 3.4297e-04 - accuracy: 1.0000 - val_loss: 0.0151 - val_accuracy: 0.9967\n",
      "Epoch 18/30\n",
      "842/842 - 2s - loss: 3.5815e-04 - accuracy: 1.0000 - val_loss: 0.0159 - val_accuracy: 0.9967\n",
      "Epoch 19/30\n",
      "842/842 - 2s - loss: 3.3444e-04 - accuracy: 1.0000 - val_loss: 0.0157 - val_accuracy: 0.9967\n",
      "Epoch 20/30\n",
      "842/842 - 2s - loss: 3.4043e-04 - accuracy: 1.0000 - val_loss: 0.0164 - val_accuracy: 0.9967\n",
      "Epoch 21/30\n",
      "842/842 - 2s - loss: 3.2857e-04 - accuracy: 1.0000 - val_loss: 0.0166 - val_accuracy: 0.9968\n",
      "Epoch 22/30\n",
      "842/842 - 2s - loss: 2.9394e-04 - accuracy: 1.0000 - val_loss: 0.0175 - val_accuracy: 0.9967\n",
      "Epoch 23/30\n",
      "842/842 - 2s - loss: 3.2964e-04 - accuracy: 1.0000 - val_loss: 0.0175 - val_accuracy: 0.9969\n",
      "Epoch 24/30\n",
      "842/842 - 2s - loss: 3.5398e-04 - accuracy: 1.0000 - val_loss: 0.0184 - val_accuracy: 0.9968\n",
      "Epoch 25/30\n",
      "842/842 - 2s - loss: 2.8821e-04 - accuracy: 1.0000 - val_loss: 0.0192 - val_accuracy: 0.9968\n",
      "Epoch 26/30\n",
      "842/842 - 2s - loss: 3.3759e-04 - accuracy: 1.0000 - val_loss: 0.0202 - val_accuracy: 0.9966\n",
      "Epoch 27/30\n",
      "842/842 - 2s - loss: 3.3776e-04 - accuracy: 1.0000 - val_loss: 0.0211 - val_accuracy: 0.9969\n",
      "Epoch 28/30\n",
      "842/842 - 2s - loss: 3.2665e-04 - accuracy: 1.0000 - val_loss: 0.0215 - val_accuracy: 0.9970\n",
      "Epoch 29/30\n",
      "842/842 - 2s - loss: 3.2275e-04 - accuracy: 1.0000 - val_loss: 0.0230 - val_accuracy: 0.9968\n",
      "Epoch 30/30\n",
      "842/842 - 2s - loss: 3.1519e-04 - accuracy: 1.0000 - val_loss: 0.0236 - val_accuracy: 0.9968\n"
     ]
    }
   ],
   "source": [
    "num_epochs = 30\n",
    "history = temp_model_text.fit(training_padded_t, training_tl, epochs=num_epochs, validation_data=(testing_padded_t, testing_tl), verbose=2)"
   ]
  },
  {
   "cell_type": "code",
   "execution_count": 53,
   "id": "e4b26c14",
   "metadata": {},
   "outputs": [],
   "source": [
    "import pickle"
   ]
  },
  {
   "cell_type": "code",
   "execution_count": 56,
   "id": "f7d9bc36",
   "metadata": {},
   "outputs": [],
   "source": [
    "pickle.dump(tokenizer_t, open('text_tokenizer_l.pkl', 'wb'))"
   ]
  },
  {
   "cell_type": "code",
   "execution_count": 55,
   "id": "cd8eb59c",
   "metadata": {},
   "outputs": [
    {
     "name": "stdout",
     "output_type": "stream",
     "text": [
      "WARNING:tensorflow:From D:\\Softwares\\Anaconda\\lib\\site-packages\\tensorflow\\python\\training\\tracking\\tracking.py:111: Model.state_updates (from tensorflow.python.keras.engine.training) is deprecated and will be removed in a future version.\n",
      "Instructions for updating:\n",
      "This property should not be used in TensorFlow 2.0, as updates are applied automatically.\n",
      "WARNING:tensorflow:From D:\\Softwares\\Anaconda\\lib\\site-packages\\tensorflow\\python\\training\\tracking\\tracking.py:111: Layer.updates (from tensorflow.python.keras.engine.base_layer) is deprecated and will be removed in a future version.\n",
      "Instructions for updating:\n",
      "This property should not be used in TensorFlow 2.0, as updates are applied automatically.\n",
      "INFO:tensorflow:Assets written to: fakenews_temp_text\\assets\n"
     ]
    }
   ],
   "source": [
    "temp_model_text.save(\"fakenews_temp_text\")"
   ]
  },
  {
   "cell_type": "code",
   "execution_count": null,
   "id": "676464a6",
   "metadata": {},
   "outputs": [],
   "source": []
  },
  {
   "cell_type": "code",
   "execution_count": null,
   "id": "6bb9a6f0",
   "metadata": {},
   "outputs": [],
   "source": []
  },
  {
   "cell_type": "code",
   "execution_count": null,
   "id": "3bfa3d6e",
   "metadata": {},
   "outputs": [],
   "source": []
  },
  {
   "cell_type": "code",
   "execution_count": null,
   "id": "d8fa6342",
   "metadata": {},
   "outputs": [],
   "source": []
  },
  {
   "cell_type": "code",
   "execution_count": null,
   "id": "c1bdfa8d",
   "metadata": {},
   "outputs": [],
   "source": []
  },
  {
   "cell_type": "code",
   "execution_count": null,
   "id": "9afb0801",
   "metadata": {},
   "outputs": [],
   "source": []
  },
  {
   "cell_type": "code",
   "execution_count": null,
   "id": "02ebf308",
   "metadata": {},
   "outputs": [],
   "source": []
  },
  {
   "cell_type": "code",
   "execution_count": null,
   "id": "0ddd928a",
   "metadata": {},
   "outputs": [],
   "source": []
  },
  {
   "cell_type": "code",
   "execution_count": null,
   "id": "75d3a32f",
   "metadata": {},
   "outputs": [],
   "source": []
  },
  {
   "cell_type": "code",
   "execution_count": 121,
   "id": "6e8d1b79",
   "metadata": {},
   "outputs": [],
   "source": [
    "training_sentences = np.array(titles[:training_size])\n",
    "testing_sentences  = np.array(titles[training_size:44898])\n",
    "training_labels    = np.array(target[:training_size])\n",
    "testing_labels     = np.array(target[training_size:])"
   ]
  },
  {
   "cell_type": "code",
   "execution_count": 122,
   "id": "b0b41d9b",
   "metadata": {},
   "outputs": [
    {
     "data": {
      "text/plain": [
       "(35918,)"
      ]
     },
     "execution_count": 122,
     "metadata": {},
     "output_type": "execute_result"
    }
   ],
   "source": [
    "training_sentences.shape"
   ]
  },
  {
   "cell_type": "code",
   "execution_count": 123,
   "id": "3e00ee13",
   "metadata": {},
   "outputs": [
    {
     "data": {
      "text/plain": [
       "(8980,)"
      ]
     },
     "execution_count": 123,
     "metadata": {},
     "output_type": "execute_result"
    }
   ],
   "source": [
    "testing_sentences.shape"
   ]
  },
  {
   "cell_type": "code",
   "execution_count": 124,
   "id": "e63922f5",
   "metadata": {},
   "outputs": [
    {
     "data": {
      "text/plain": [
       "(35918,)"
      ]
     },
     "execution_count": 124,
     "metadata": {},
     "output_type": "execute_result"
    }
   ],
   "source": [
    "training_labels.shape"
   ]
  },
  {
   "cell_type": "code",
   "execution_count": 125,
   "id": "57a658ac",
   "metadata": {},
   "outputs": [
    {
     "data": {
      "text/plain": [
       "(8980,)"
      ]
     },
     "execution_count": 125,
     "metadata": {},
     "output_type": "execute_result"
    }
   ],
   "source": [
    "testing_labels.shape"
   ]
  },
  {
   "cell_type": "code",
   "execution_count": 126,
   "id": "101e259a",
   "metadata": {},
   "outputs": [
    {
     "data": {
      "text/plain": [
       "(8980,)"
      ]
     },
     "execution_count": 126,
     "metadata": {},
     "output_type": "execute_result"
    }
   ],
   "source": [
    "np.array(titles[training_size:53878]).shape"
   ]
  },
  {
   "cell_type": "code",
   "execution_count": null,
   "id": "557d527d",
   "metadata": {},
   "outputs": [],
   "source": []
  },
  {
   "cell_type": "code",
   "execution_count": 127,
   "id": "e7b644d1",
   "metadata": {},
   "outputs": [
    {
     "data": {
      "text/plain": [
       "(8980,)"
      ]
     },
     "execution_count": 127,
     "metadata": {},
     "output_type": "execute_result"
    }
   ],
   "source": [
    "testing_sentences.shape"
   ]
  },
  {
   "cell_type": "code",
   "execution_count": 128,
   "id": "d142c476",
   "metadata": {},
   "outputs": [
    {
     "data": {
      "text/plain": [
       "(8980,)"
      ]
     },
     "execution_count": 128,
     "metadata": {},
     "output_type": "execute_result"
    }
   ],
   "source": [
    "testing_labels.shape"
   ]
  },
  {
   "cell_type": "code",
   "execution_count": 129,
   "id": "de793a67",
   "metadata": {},
   "outputs": [
    {
     "data": {
      "text/plain": [
       "44898"
      ]
     },
     "execution_count": 129,
     "metadata": {},
     "output_type": "execute_result"
    }
   ],
   "source": [
    "35918+8980"
   ]
  },
  {
   "cell_type": "code",
   "execution_count": null,
   "id": "01c0e3ce",
   "metadata": {},
   "outputs": [],
   "source": []
  },
  {
   "cell_type": "code",
   "execution_count": null,
   "id": "51e163b1",
   "metadata": {},
   "outputs": [],
   "source": []
  },
  {
   "cell_type": "code",
   "execution_count": 130,
   "id": "f01072d7",
   "metadata": {},
   "outputs": [],
   "source": [
    "tokenizer=Tokenizer(num_words=vocab_size,oov_token=oov_tok)\n",
    "tokenizer.fit_on_texts(training_sentences)"
   ]
  },
  {
   "cell_type": "code",
   "execution_count": 131,
   "id": "21318204",
   "metadata": {},
   "outputs": [],
   "source": [
    "import pickle\n",
    "pickle.dump(tokenizer, open('heading_tokenizer.pkl', 'wb'))"
   ]
  },
  {
   "cell_type": "code",
   "execution_count": null,
   "id": "824c5137",
   "metadata": {},
   "outputs": [],
   "source": []
  },
  {
   "cell_type": "code",
   "execution_count": 85,
   "id": "9b57be28",
   "metadata": {},
   "outputs": [],
   "source": [
    "word_index=tokenizer.word_index"
   ]
  },
  {
   "cell_type": "code",
   "execution_count": 86,
   "id": "b87f60f6",
   "metadata": {},
   "outputs": [],
   "source": [
    "training_sequences=tokenizer.texts_to_sequences(training_sentences)\n",
    "training_padded=pad_sequences(training_sequences,maxlen=max_length,padding=padding_type,truncating=trunc_type)"
   ]
  },
  {
   "cell_type": "code",
   "execution_count": 87,
   "id": "b6bfdabb",
   "metadata": {},
   "outputs": [],
   "source": [
    "testing_sequences=tokenizer.texts_to_sequences(testing_sentences)\n",
    "testing_padded=pad_sequences(testing_sequences,maxlen=max_length,padding=padding_type,truncating=trunc_type)"
   ]
  },
  {
   "cell_type": "code",
   "execution_count": 88,
   "id": "2bf33e08",
   "metadata": {},
   "outputs": [],
   "source": [
    "model=tf.keras.Sequential([\n",
    "    tf.keras.layers.Embedding(vocab_size,embedding_dim,input_length=max_length),\n",
    "    tf.keras.layers.GlobalAveragePooling1D(),\n",
    "    tf.keras.layers.Dense(24,activation='relu'),\n",
    "    tf.keras.layers.Dense(1,activation='sigmoid')\n",
    "])\n",
    "\n",
    "model.compile(loss='binary_crossentropy',optimizer=\"adam\",metrics=['accuracy'])"
   ]
  },
  {
   "cell_type": "code",
   "execution_count": 89,
   "id": "71c080e5",
   "metadata": {},
   "outputs": [
    {
     "name": "stdout",
     "output_type": "stream",
     "text": [
      "Model: \"sequential\"\n",
      "_________________________________________________________________\n",
      "Layer (type)                 Output Shape              Param #   \n",
      "=================================================================\n",
      "embedding (Embedding)        (None, 100, 16)           160000    \n",
      "_________________________________________________________________\n",
      "global_average_pooling1d (Gl (None, 16)                0         \n",
      "_________________________________________________________________\n",
      "dense (Dense)                (None, 24)                408       \n",
      "_________________________________________________________________\n",
      "dense_1 (Dense)              (None, 1)                 25        \n",
      "=================================================================\n",
      "Total params: 160,433\n",
      "Trainable params: 160,433\n",
      "Non-trainable params: 0\n",
      "_________________________________________________________________\n"
     ]
    }
   ],
   "source": [
    "model.summary()"
   ]
  },
  {
   "cell_type": "code",
   "execution_count": 90,
   "id": "7b85b96f",
   "metadata": {
    "scrolled": true
   },
   "outputs": [
    {
     "name": "stdout",
     "output_type": "stream",
     "text": [
      "Epoch 1/30\n",
      "1123/1123 - 3s - loss: 0.3635 - accuracy: 0.8610 - val_loss: 0.1474 - val_accuracy: 0.9455\n",
      "Epoch 2/30\n",
      "1123/1123 - 3s - loss: 0.1060 - accuracy: 0.9630 - val_loss: 0.0940 - val_accuracy: 0.9648\n",
      "Epoch 3/30\n",
      "1123/1123 - 3s - loss: 0.0735 - accuracy: 0.9742 - val_loss: 0.0794 - val_accuracy: 0.9689\n",
      "Epoch 4/30\n",
      "1123/1123 - 3s - loss: 0.0575 - accuracy: 0.9802 - val_loss: 0.0802 - val_accuracy: 0.9684\n",
      "Epoch 5/30\n",
      "1123/1123 - 3s - loss: 0.0459 - accuracy: 0.9845 - val_loss: 0.0728 - val_accuracy: 0.9722\n",
      "Epoch 6/30\n",
      "1123/1123 - 3s - loss: 0.0383 - accuracy: 0.9874 - val_loss: 0.0705 - val_accuracy: 0.9744\n",
      "Epoch 7/30\n",
      "1123/1123 - 3s - loss: 0.0318 - accuracy: 0.9899 - val_loss: 0.0747 - val_accuracy: 0.9714\n",
      "Epoch 8/30\n",
      "1123/1123 - 3s - loss: 0.0264 - accuracy: 0.9917 - val_loss: 0.0702 - val_accuracy: 0.9755\n",
      "Epoch 9/30\n",
      "1123/1123 - 3s - loss: 0.0225 - accuracy: 0.9930 - val_loss: 0.0796 - val_accuracy: 0.9738\n",
      "Epoch 10/30\n",
      "1123/1123 - 2s - loss: 0.0183 - accuracy: 0.9952 - val_loss: 0.0776 - val_accuracy: 0.9737\n",
      "Epoch 11/30\n",
      "1123/1123 - 3s - loss: 0.0154 - accuracy: 0.9954 - val_loss: 0.0799 - val_accuracy: 0.9737\n",
      "Epoch 12/30\n",
      "1123/1123 - 3s - loss: 0.0134 - accuracy: 0.9961 - val_loss: 0.0843 - val_accuracy: 0.9745\n",
      "Epoch 13/30\n",
      "1123/1123 - 3s - loss: 0.0117 - accuracy: 0.9966 - val_loss: 0.0938 - val_accuracy: 0.9732\n",
      "Epoch 14/30\n",
      "1123/1123 - 3s - loss: 0.0094 - accuracy: 0.9977 - val_loss: 0.0934 - val_accuracy: 0.9726\n",
      "Epoch 15/30\n",
      "1123/1123 - 2s - loss: 0.0082 - accuracy: 0.9978 - val_loss: 0.1005 - val_accuracy: 0.9714\n",
      "Epoch 16/30\n",
      "1123/1123 - 2s - loss: 0.0079 - accuracy: 0.9979 - val_loss: 0.1062 - val_accuracy: 0.9710\n",
      "Epoch 17/30\n",
      "1123/1123 - 2s - loss: 0.0060 - accuracy: 0.9986 - val_loss: 0.1165 - val_accuracy: 0.9709\n",
      "Epoch 18/30\n",
      "1123/1123 - 2s - loss: 0.0053 - accuracy: 0.9984 - val_loss: 0.1176 - val_accuracy: 0.9712\n",
      "Epoch 19/30\n",
      "1123/1123 - 2s - loss: 0.0053 - accuracy: 0.9985 - val_loss: 0.1281 - val_accuracy: 0.9712\n",
      "Epoch 20/30\n",
      "1123/1123 - 2s - loss: 0.0037 - accuracy: 0.9991 - val_loss: 0.1401 - val_accuracy: 0.9695\n",
      "Epoch 21/30\n",
      "1123/1123 - 2s - loss: 0.0034 - accuracy: 0.9992 - val_loss: 0.1343 - val_accuracy: 0.9708\n",
      "Epoch 22/30\n",
      "1123/1123 - 3s - loss: 0.0032 - accuracy: 0.9992 - val_loss: 0.1442 - val_accuracy: 0.9700\n",
      "Epoch 23/30\n",
      "1123/1123 - 3s - loss: 0.0025 - accuracy: 0.9994 - val_loss: 0.1457 - val_accuracy: 0.9687\n",
      "Epoch 24/30\n",
      "1123/1123 - 3s - loss: 0.0022 - accuracy: 0.9996 - val_loss: 0.1519 - val_accuracy: 0.9698\n",
      "Epoch 25/30\n",
      "1123/1123 - 3s - loss: 0.0020 - accuracy: 0.9995 - val_loss: 0.1600 - val_accuracy: 0.9693\n",
      "Epoch 26/30\n",
      "1123/1123 - 4s - loss: 0.0016 - accuracy: 0.9997 - val_loss: 0.1818 - val_accuracy: 0.9659\n",
      "Epoch 27/30\n",
      "1123/1123 - 3s - loss: 0.0015 - accuracy: 0.9997 - val_loss: 0.1987 - val_accuracy: 0.9647\n",
      "Epoch 28/30\n",
      "1123/1123 - 2s - loss: 0.0011 - accuracy: 0.9999 - val_loss: 0.1806 - val_accuracy: 0.9671\n",
      "Epoch 29/30\n",
      "1123/1123 - 3s - loss: 0.0013 - accuracy: 0.9997 - val_loss: 0.1973 - val_accuracy: 0.9661\n",
      "Epoch 30/30\n",
      "1123/1123 - 3s - loss: 0.0013 - accuracy: 0.9997 - val_loss: 0.1912 - val_accuracy: 0.9663\n"
     ]
    }
   ],
   "source": [
    "num_epochs = 30\n",
    "history = model.fit(training_padded, training_labels, epochs=num_epochs, validation_data=(testing_padded, testing_labels), verbose=2)"
   ]
  },
  {
   "cell_type": "code",
   "execution_count": null,
   "id": "61242521",
   "metadata": {},
   "outputs": [],
   "source": []
  },
  {
   "cell_type": "code",
   "execution_count": null,
   "id": "166138d9",
   "metadata": {},
   "outputs": [],
   "source": []
  },
  {
   "cell_type": "code",
   "execution_count": 91,
   "id": "8218d74c",
   "metadata": {},
   "outputs": [],
   "source": [
    "sentence=[\n",
    "    \"granny starting to fear spiders in the garden might be real\",\n",
    "    \"the weather today is bright and sunny\",\n",
    "    \"Progressive Couple Thrilled With Latest Mandates\",\n",
    "    \"Biden won US election against Trump in fair ways,' Republican-funded review claims\"\n",
    "]"
   ]
  },
  {
   "cell_type": "code",
   "execution_count": 92,
   "id": "82bc37c7",
   "metadata": {},
   "outputs": [],
   "source": [
    "sequences=tokenizer.texts_to_sequences(sentence)"
   ]
  },
  {
   "cell_type": "code",
   "execution_count": 93,
   "id": "dbe873f4",
   "metadata": {},
   "outputs": [],
   "source": [
    "padded=pad_sequences(sequences,maxlen=max_length,padding=padding_type,truncating=trunc_type)"
   ]
  },
  {
   "cell_type": "code",
   "execution_count": 94,
   "id": "1b1105df",
   "metadata": {},
   "outputs": [
    {
     "name": "stdout",
     "output_type": "stream",
     "text": [
      "[[1.2463725e-12]\n",
      " [3.5248686e-05]\n",
      " [2.1977275e-08]\n",
      " [8.6118162e-01]]\n"
     ]
    }
   ],
   "source": [
    "print(model.predict(padded))"
   ]
  },
  {
   "cell_type": "code",
   "execution_count": null,
   "id": "5061b7df",
   "metadata": {},
   "outputs": [],
   "source": []
  },
  {
   "cell_type": "code",
   "execution_count": 95,
   "id": "da2e3198",
   "metadata": {},
   "outputs": [
    {
     "name": "stdout",
     "output_type": "stream",
     "text": [
      "WARNING:tensorflow:From D:\\Softwares\\Anaconda\\lib\\site-packages\\tensorflow\\python\\training\\tracking\\tracking.py:111: Model.state_updates (from tensorflow.python.keras.engine.training) is deprecated and will be removed in a future version.\n",
      "Instructions for updating:\n",
      "This property should not be used in TensorFlow 2.0, as updates are applied automatically.\n",
      "WARNING:tensorflow:From D:\\Softwares\\Anaconda\\lib\\site-packages\\tensorflow\\python\\training\\tracking\\tracking.py:111: Layer.updates (from tensorflow.python.keras.engine.base_layer) is deprecated and will be removed in a future version.\n",
      "Instructions for updating:\n",
      "This property should not be used in TensorFlow 2.0, as updates are applied automatically.\n",
      "INFO:tensorflow:Assets written to: fakenews\\assets\n"
     ]
    }
   ],
   "source": [
    "model.save(\"fakenews\")"
   ]
  },
  {
   "cell_type": "code",
   "execution_count": 11,
   "id": "4a7d18f6",
   "metadata": {},
   "outputs": [],
   "source": [
    "from tensorflow import keras\n",
    "from tensorflow.keras.preprocessing.text import Tokenizer\n",
    "from tensorflow.keras.preprocessing.sequence import pad_sequences\n",
    "import pandas as pd\n",
    "import numpy as np\n",
    "import matplotlib.pyplot as plt\n",
    "import tensorflow as tf\n",
    "import pickle"
   ]
  },
  {
   "cell_type": "code",
   "execution_count": 12,
   "id": "c8be3180",
   "metadata": {},
   "outputs": [],
   "source": [
    "new_models=keras.models.load_model(\"fakenews\")"
   ]
  },
  {
   "cell_type": "code",
   "execution_count": 13,
   "id": "09487760",
   "metadata": {},
   "outputs": [
    {
     "name": "stdout",
     "output_type": "stream",
     "text": [
      "Model: \"sequential\"\n",
      "_________________________________________________________________\n",
      "Layer (type)                 Output Shape              Param #   \n",
      "=================================================================\n",
      "embedding (Embedding)        (None, 100, 16)           160000    \n",
      "_________________________________________________________________\n",
      "global_average_pooling1d (Gl (None, 16)                0         \n",
      "_________________________________________________________________\n",
      "dense (Dense)                (None, 24)                408       \n",
      "_________________________________________________________________\n",
      "dense_1 (Dense)              (None, 1)                 25        \n",
      "=================================================================\n",
      "Total params: 160,433\n",
      "Trainable params: 160,433\n",
      "Non-trainable params: 0\n",
      "_________________________________________________________________\n"
     ]
    }
   ],
   "source": [
    "new_models.summary()"
   ]
  },
  {
   "cell_type": "code",
   "execution_count": null,
   "id": "3b0bf35f",
   "metadata": {},
   "outputs": [],
   "source": []
  },
  {
   "cell_type": "code",
   "execution_count": 14,
   "id": "d978e6b2",
   "metadata": {},
   "outputs": [],
   "source": [
    "sentence=[\n",
    "    \"granny starting to fear spiders in the garden might be real\",\n",
    "    \"the weather today is bright and sunny\",\n",
    "    \"Progressive Couple Thrilled With Latest Mandates\",\n",
    "    \"'Biden won US election against Trump in fair ways,' Republican-funded review claims\"\n",
    "]"
   ]
  },
  {
   "cell_type": "code",
   "execution_count": 15,
   "id": "310e4fff",
   "metadata": {},
   "outputs": [],
   "source": [
    "vocab_size = 10000\n",
    "embedding_dim = 16\n",
    "max_length = 100\n",
    "trunc_type='post'\n",
    "padding_type='post'\n",
    "oov_tok = \"<OOV>\"\n",
    "#training_size = int(len(full_dataset)*0.8)"
   ]
  },
  {
   "cell_type": "code",
   "execution_count": 16,
   "id": "92253a44",
   "metadata": {},
   "outputs": [],
   "source": [
    "tokenizer=pickle.load(open('heading_tokenizer.pkl','rb'))\n",
    "#tokenizer.fit_on_texts(training_sentences)"
   ]
  },
  {
   "cell_type": "code",
   "execution_count": 17,
   "id": "f5f161bc",
   "metadata": {},
   "outputs": [],
   "source": [
    "sequences=tokenizer.texts_to_sequences(sentence)\n",
    "padded=pad_sequences(sequences,maxlen=max_length,padding=padding_type,truncating=trunc_type)"
   ]
  },
  {
   "cell_type": "code",
   "execution_count": 18,
   "id": "1055a496",
   "metadata": {},
   "outputs": [
    {
     "name": "stdout",
     "output_type": "stream",
     "text": [
      "[[3.4875745e-15]\n",
      " [2.1293759e-04]\n",
      " [1.5511760e-01]\n",
      " [9.9997640e-01]]\n"
     ]
    }
   ],
   "source": [
    "print(new_models.predict(padded))"
   ]
  },
  {
   "cell_type": "code",
   "execution_count": 19,
   "id": "c219b205",
   "metadata": {},
   "outputs": [
    {
     "data": {
      "text/plain": [
       "numpy.ndarray"
      ]
     },
     "execution_count": 19,
     "metadata": {},
     "output_type": "execute_result"
    }
   ],
   "source": [
    "type(new_models.predict(padded))"
   ]
  },
  {
   "cell_type": "code",
   "execution_count": 20,
   "id": "aca6c1cc",
   "metadata": {},
   "outputs": [],
   "source": [
    "x=new_models.predict(padded)"
   ]
  },
  {
   "cell_type": "code",
   "execution_count": 21,
   "id": "84cbd2d9",
   "metadata": {},
   "outputs": [
    {
     "data": {
      "text/plain": [
       "array([[3.4875745e-15],\n",
       "       [2.1293759e-04],\n",
       "       [1.5511760e-01],\n",
       "       [9.9997640e-01]], dtype=float32)"
      ]
     },
     "execution_count": 21,
     "metadata": {},
     "output_type": "execute_result"
    }
   ],
   "source": [
    "x"
   ]
  },
  {
   "cell_type": "code",
   "execution_count": 22,
   "id": "690f23c6",
   "metadata": {},
   "outputs": [
    {
     "data": {
      "text/plain": [
       "array([3.4875745e-15], dtype=float32)"
      ]
     },
     "execution_count": 22,
     "metadata": {},
     "output_type": "execute_result"
    }
   ],
   "source": [
    "x[0]"
   ]
  },
  {
   "cell_type": "code",
   "execution_count": 23,
   "id": "2c79a2ec",
   "metadata": {},
   "outputs": [
    {
     "data": {
      "text/plain": [
       "3.4875745e-15"
      ]
     },
     "execution_count": 23,
     "metadata": {},
     "output_type": "execute_result"
    }
   ],
   "source": [
    "x[0][0]"
   ]
  },
  {
   "cell_type": "code",
   "execution_count": 26,
   "id": "cdf320ac",
   "metadata": {},
   "outputs": [
    {
     "data": {
      "text/plain": [
       "3.4875745158160403e-15"
      ]
     },
     "execution_count": 26,
     "metadata": {},
     "output_type": "execute_result"
    }
   ],
   "source": [
    "float(x[0][0])"
   ]
  },
  {
   "cell_type": "code",
   "execution_count": 29,
   "id": "808b9127",
   "metadata": {},
   "outputs": [
    {
     "name": "stdout",
     "output_type": "stream",
     "text": [
      "0.1551176\n"
     ]
    }
   ],
   "source": [
    "print(float(\"{:.8f}\".format(x[2][0])))"
   ]
  },
  {
   "cell_type": "code",
   "execution_count": null,
   "id": "d23dc7e4",
   "metadata": {},
   "outputs": [],
   "source": []
  },
  {
   "cell_type": "code",
   "execution_count": null,
   "id": "e626063b",
   "metadata": {},
   "outputs": [],
   "source": []
  },
  {
   "cell_type": "code",
   "execution_count": null,
   "id": "8cf9a00f",
   "metadata": {},
   "outputs": [],
   "source": []
  },
  {
   "cell_type": "code",
   "execution_count": 125,
   "id": "3b7c0aa7",
   "metadata": {},
   "outputs": [],
   "source": [
    "from tensorflow import keras\n",
    "from tensorflow.keras.preprocessing.text import Tokenizer\n",
    "from tensorflow.keras.preprocessing.sequence import pad_sequences\n",
    "#import pandas as pd\n",
    "import numpy as np\n",
    "#import matplotlib.pyplot as plt\n",
    "import tensorflow as tf\n",
    "import pickle\n",
    "\n",
    "def predict(sentence):\n",
    "    tokenizer=pickle.load(open('heading_tokenizer_l.pkl','rb'))\n",
    "    new_models=keras.models.load_model(\"fakenews_temp\")\n",
    "    vocab_size = 10000\n",
    "    embedding_dim = 16\n",
    "    max_length = 100\n",
    "    trunc_type='post'\n",
    "    padding_type='post'\n",
    "    oov_tok = \"<OOV>\"\n",
    "\n",
    "    sequences=tokenizer.texts_to_sequences(sentence)\n",
    "    padded=pad_sequences(sequences,maxlen=max_length,padding=padding_type,truncating=trunc_type)\n",
    "\n",
    "    #print(new_models.predict(padded))\n",
    "    x=new_models.predict(padded)\n",
    "\n",
    "    #[print(float(\"{:.8f}\".format(i[0]))) for i in x]\n",
    "    return [float(\"{:.8f}\".format(i[0])) for i in x]\n",
    "\n",
    "    #print(\"Hello World\")"
   ]
  },
  {
   "cell_type": "code",
   "execution_count": 131,
   "id": "fa619fb0",
   "metadata": {},
   "outputs": [
    {
     "name": "stdout",
     "output_type": "stream",
     "text": [
      "WARNING:tensorflow:8 out of the last 11 calls to <function Model.make_predict_function.<locals>.predict_function at 0x000001678974A550> triggered tf.function retracing. Tracing is expensive and the excessive number of tracings could be due to (1) creating @tf.function repeatedly in a loop, (2) passing tensors with different shapes, (3) passing Python objects instead of tensors. For (1), please define your @tf.function outside of the loop. For (2), @tf.function has experimental_relax_shapes=True option that relaxes argument shapes that can avoid unnecessary retracing. For (3), please refer to https://www.tensorflow.org/tutorials/customization/performance#python_or_tensor_args and https://www.tensorflow.org/api_docs/python/tf/function for  more details.\n",
      "1.0 1\n",
      "0.99998367 1\n",
      "8.83e-06 0\n",
      "0.99981993 1\n",
      "1.3e-07 0\n",
      "0.99999982 1\n",
      "0.0 0\n",
      "0.0 0\n",
      "0.99999571 1\n",
      "0.0 0\n",
      "0.99999964 1\n",
      "0.9999994 1\n",
      "0.0066916 0\n",
      "0.0 0\n",
      "0.0 0\n",
      "1.675e-05 0\n",
      "0.99998116 1\n",
      "0.99999988 1\n",
      "0.0 0\n",
      "0.99999923 1\n",
      "0.99998736 1\n",
      "1.0 1\n",
      "0.99998462 1\n",
      "0.99999905 1\n",
      "3.35e-05 0\n",
      "1e-08 0\n",
      "0.99991667 1\n",
      "0.0 0\n",
      "1.0 1\n",
      "1e-08 0\n",
      "0.00011879 0\n",
      "0.9999724 1\n",
      "0.99999976 1\n",
      "0.0 0\n",
      "0.0 0\n",
      "0.99999976 1\n",
      "9.5e-07 0\n",
      "0.99999756 1\n",
      "0.99999964 1\n",
      "0.99938601 1\n",
      "0.0 0\n",
      "0.99999869 1\n",
      "1.09e-06 0\n",
      "0.00447515 0\n",
      "0.0 0\n",
      "4.362e-05 0\n",
      "0.99999917 1\n",
      "0.0 0\n",
      "1.0 1\n",
      "0.9999969 1\n"
     ]
    }
   ],
   "source": [
    "y=[]\n",
    "for i in range(50):\n",
    "    y.append(training_s[i])\n",
    "q=predict(y)\n",
    "for i in range(50):\n",
    "    print(q[i],training_l[i])"
   ]
  },
  {
   "cell_type": "code",
   "execution_count": 133,
   "id": "6d136dae",
   "metadata": {},
   "outputs": [
    {
     "name": "stdout",
     "output_type": "stream",
     "text": [
      "WARNING:tensorflow:8 out of the last 12 calls to <function Model.make_predict_function.<locals>.predict_function at 0x000001678B010040> triggered tf.function retracing. Tracing is expensive and the excessive number of tracings could be due to (1) creating @tf.function repeatedly in a loop, (2) passing tensors with different shapes, (3) passing Python objects instead of tensors. For (1), please define your @tf.function outside of the loop. For (2), @tf.function has experimental_relax_shapes=True option that relaxes argument shapes that can avoid unnecessary retracing. For (3), please refer to https://www.tensorflow.org/tutorials/customization/performance#python_or_tensor_args and https://www.tensorflow.org/api_docs/python/tf/function for  more details.\n",
      "0 0.0 0\n",
      "1 0.95685339 1\n",
      "2 0.99999511 1\n",
      "3 1.988e-05 0\n",
      "4 0.99999934 1\n",
      "5 0.99999785 1\n",
      "6 0.0 0\n",
      "7 0.0 0\n",
      "8 0.9999845 0\n",
      "9 1.0 1\n",
      "10 0.99999982 1\n",
      "11 0.0 0\n",
      "12 0.99999386 1\n",
      "13 0.0 0\n",
      "14 0.99999917 1\n",
      "15 0.0 0\n",
      "16 0.99999619 1\n",
      "17 0.0 0\n",
      "18 0.0 0\n",
      "19 1.0 1\n",
      "20 0.0 0\n",
      "21 1.0 1\n",
      "22 1.0 1\n",
      "23 0.9999975 1\n",
      "24 0.0 0\n",
      "25 0.0 0\n",
      "26 0.0 0\n",
      "27 0.99999422 1\n",
      "28 7e-08 0\n",
      "29 1.0 1\n",
      "30 0.0 0\n",
      "31 0.82988662 1\n",
      "32 0.9999997 1\n",
      "33 0.99996161 1\n",
      "34 0.99999499 1\n",
      "35 0.99999976 1\n",
      "36 0.0 0\n",
      "37 0.99999702 1\n",
      "38 1.0 1\n",
      "39 0.10930344 0\n",
      "40 0.99993241 0\n",
      "41 0.0 0\n",
      "42 1.0 1\n",
      "43 1.0 1\n",
      "44 0.0 0\n",
      "45 3.8e-07 0\n",
      "46 0.0 0\n",
      "47 0.0 0\n",
      "48 0.0 0\n",
      "49 0.0 0\n"
     ]
    }
   ],
   "source": [
    "y=[]\n",
    "for i in range(50):\n",
    "    y.append(testing_s[i])\n",
    "q=predict(y)\n",
    "for i in range(50):\n",
    "    print(i,q[i],testing_l[i])"
   ]
  },
  {
   "cell_type": "code",
   "execution_count": 135,
   "id": "99fbe501",
   "metadata": {},
   "outputs": [
    {
     "name": "stdout",
     "output_type": "stream",
     "text": [
      "CONSERVATIVES FIGHT BACK Against Proposed “Obamacare Lite”…DEMAND Full Repeal Of Obamacare\n"
     ]
    }
   ],
   "source": [
    "print(y[40])"
   ]
  },
  {
   "cell_type": "code",
   "execution_count": null,
   "id": "0f2c0e72",
   "metadata": {},
   "outputs": [],
   "source": []
  },
  {
   "cell_type": "code",
   "execution_count": null,
   "id": "0c57cf97",
   "metadata": {},
   "outputs": [],
   "source": []
  },
  {
   "cell_type": "code",
   "execution_count": null,
   "id": "cbcb8038",
   "metadata": {},
   "outputs": [],
   "source": []
  },
  {
   "cell_type": "code",
   "execution_count": null,
   "id": "d6df2464",
   "metadata": {},
   "outputs": [],
   "source": []
  },
  {
   "cell_type": "markdown",
   "id": "9db59c65",
   "metadata": {},
   "source": [
    "# Try it out"
   ]
  },
  {
   "cell_type": "code",
   "execution_count": 57,
   "id": "32d4febe",
   "metadata": {},
   "outputs": [
    {
     "name": "stdout",
     "output_type": "stream",
     "text": [
      "Enter your article heading hereCONSERVATIVES FIGHT BACK Against Proposed “Obamacare Lite”…DEMAND Full Repeal Of Obamacare\n",
      "Enter your article text hereCONSERVATIVES FIGHT BACK Against Proposed “Obamacare Lite”…DEMAND Full Repeal Of Obamacare\n"
     ]
    }
   ],
   "source": [
    "to_be_predicted_heading=input(\"Enter your article heading here\")\n",
    "to_be_predicted_text=input(\"Enter your article text here\")"
   ]
  },
  {
   "cell_type": "code",
   "execution_count": 58,
   "id": "5ffa41b2",
   "metadata": {},
   "outputs": [],
   "source": [
    "from nltk.corpus import stopwords"
   ]
  },
  {
   "cell_type": "code",
   "execution_count": 60,
   "id": "36e09e4b",
   "metadata": {},
   "outputs": [
    {
     "data": {
      "text/plain": [
       "['i',\n",
       " 'me',\n",
       " 'my',\n",
       " 'myself',\n",
       " 'we',\n",
       " 'our',\n",
       " 'ours',\n",
       " 'ourselves',\n",
       " 'you',\n",
       " \"you're\",\n",
       " \"you've\",\n",
       " \"you'll\",\n",
       " \"you'd\",\n",
       " 'your',\n",
       " 'yours',\n",
       " 'yourself',\n",
       " 'yourselves',\n",
       " 'he',\n",
       " 'him',\n",
       " 'his',\n",
       " 'himself',\n",
       " 'she',\n",
       " \"she's\",\n",
       " 'her',\n",
       " 'hers',\n",
       " 'herself',\n",
       " 'it',\n",
       " \"it's\",\n",
       " 'its',\n",
       " 'itself',\n",
       " 'they',\n",
       " 'them',\n",
       " 'their',\n",
       " 'theirs',\n",
       " 'themselves',\n",
       " 'what',\n",
       " 'which',\n",
       " 'who',\n",
       " 'whom',\n",
       " 'this',\n",
       " 'that',\n",
       " \"that'll\",\n",
       " 'these',\n",
       " 'those',\n",
       " 'am',\n",
       " 'is',\n",
       " 'are',\n",
       " 'was',\n",
       " 'were',\n",
       " 'be',\n",
       " 'been',\n",
       " 'being',\n",
       " 'have',\n",
       " 'has',\n",
       " 'had',\n",
       " 'having',\n",
       " 'do',\n",
       " 'does',\n",
       " 'did',\n",
       " 'doing',\n",
       " 'a',\n",
       " 'an',\n",
       " 'the',\n",
       " 'and',\n",
       " 'but',\n",
       " 'if',\n",
       " 'or',\n",
       " 'because',\n",
       " 'as',\n",
       " 'until',\n",
       " 'while',\n",
       " 'of',\n",
       " 'at',\n",
       " 'by',\n",
       " 'for',\n",
       " 'with',\n",
       " 'about',\n",
       " 'against',\n",
       " 'between',\n",
       " 'into',\n",
       " 'through',\n",
       " 'during',\n",
       " 'before',\n",
       " 'after',\n",
       " 'above',\n",
       " 'below',\n",
       " 'to',\n",
       " 'from',\n",
       " 'up',\n",
       " 'down',\n",
       " 'in',\n",
       " 'out',\n",
       " 'on',\n",
       " 'off',\n",
       " 'over',\n",
       " 'under',\n",
       " 'again',\n",
       " 'further',\n",
       " 'then',\n",
       " 'once',\n",
       " 'here',\n",
       " 'there',\n",
       " 'when',\n",
       " 'where',\n",
       " 'why',\n",
       " 'how',\n",
       " 'all',\n",
       " 'any',\n",
       " 'both',\n",
       " 'each',\n",
       " 'few',\n",
       " 'more',\n",
       " 'most',\n",
       " 'other',\n",
       " 'some',\n",
       " 'such',\n",
       " 'no',\n",
       " 'nor',\n",
       " 'not',\n",
       " 'only',\n",
       " 'own',\n",
       " 'same',\n",
       " 'so',\n",
       " 'than',\n",
       " 'too',\n",
       " 'very',\n",
       " 's',\n",
       " 't',\n",
       " 'can',\n",
       " 'will',\n",
       " 'just',\n",
       " 'don',\n",
       " \"don't\",\n",
       " 'should',\n",
       " \"should've\",\n",
       " 'now',\n",
       " 'd',\n",
       " 'll',\n",
       " 'm',\n",
       " 'o',\n",
       " 're',\n",
       " 've',\n",
       " 'y',\n",
       " 'ain',\n",
       " 'aren',\n",
       " \"aren't\",\n",
       " 'couldn',\n",
       " \"couldn't\",\n",
       " 'didn',\n",
       " \"didn't\",\n",
       " 'doesn',\n",
       " \"doesn't\",\n",
       " 'hadn',\n",
       " \"hadn't\",\n",
       " 'hasn',\n",
       " \"hasn't\",\n",
       " 'haven',\n",
       " \"haven't\",\n",
       " 'isn',\n",
       " \"isn't\",\n",
       " 'ma',\n",
       " 'mightn',\n",
       " \"mightn't\",\n",
       " 'mustn',\n",
       " \"mustn't\",\n",
       " 'needn',\n",
       " \"needn't\",\n",
       " 'shan',\n",
       " \"shan't\",\n",
       " 'shouldn',\n",
       " \"shouldn't\",\n",
       " 'wasn',\n",
       " \"wasn't\",\n",
       " 'weren',\n",
       " \"weren't\",\n",
       " 'won',\n",
       " \"won't\",\n",
       " 'wouldn',\n",
       " \"wouldn't\"]"
      ]
     },
     "execution_count": 60,
     "metadata": {},
     "output_type": "execute_result"
    }
   ],
   "source": [
    "stopwords.words('english')"
   ]
  },
  {
   "cell_type": "code",
   "execution_count": 61,
   "id": "137e6f7f",
   "metadata": {},
   "outputs": [
    {
     "data": {
      "text/plain": [
       "list"
      ]
     },
     "execution_count": 61,
     "metadata": {},
     "output_type": "execute_result"
    }
   ],
   "source": [
    "type(stopwords.words('english'))"
   ]
  },
  {
   "cell_type": "code",
   "execution_count": null,
   "id": "71010076",
   "metadata": {},
   "outputs": [],
   "source": []
  }
 ],
 "metadata": {
  "kernelspec": {
   "display_name": "Python 3",
   "language": "python",
   "name": "python3"
  },
  "language_info": {
   "codemirror_mode": {
    "name": "ipython",
    "version": 3
   },
   "file_extension": ".py",
   "mimetype": "text/x-python",
   "name": "python",
   "nbconvert_exporter": "python",
   "pygments_lexer": "ipython3",
   "version": "3.8.8"
  }
 },
 "nbformat": 4,
 "nbformat_minor": 5
}
